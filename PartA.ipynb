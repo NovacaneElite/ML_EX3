{
  "cells": [
    {
      "cell_type": "markdown",
      "metadata": {
        "tags": [],
        "id": "HlNeNDuztpOf"
      },
      "source": [
        "# Machine Learning with PyTorch and Scikit-Learn  \n",
        "# -- Code Examples"
      ]
    },
    {
      "cell_type": "markdown",
      "metadata": {
        "id": "_vAEmaXitpOl"
      },
      "source": [
        "## Package version checks"
      ]
    },
    {
      "cell_type": "markdown",
      "metadata": {
        "id": "q7-NaKWRtpOl"
      },
      "source": [
        "Add folder to path in order to load from the check_packages.py script:"
      ]
    },
    {
      "cell_type": "code",
      "execution_count": 1,
      "metadata": {
        "id": "oHQOMWnBtpOm"
      },
      "outputs": [],
      "source": [
        "import sys\n",
        "sys.path.insert(0, '..')"
      ]
    },
    {
      "cell_type": "markdown",
      "metadata": {
        "id": "1rD6FcKstpOy"
      },
      "source": [
        "Check recommended package versions:"
      ]
    },
    {
      "cell_type": "code",
      "source": [
        "import numpy\n",
        "import matplotlib\n",
        "import sklearn"
      ],
      "metadata": {
        "id": "9BjgI-spA6YG"
      },
      "execution_count": 2,
      "outputs": []
    },
    {
      "cell_type": "markdown",
      "metadata": {
        "id": "lLE6BDGAtpO1"
      },
      "source": [
        "# Chapter 11 - Implementing a Multi-layer Artificial Neural Network from Scratch\n"
      ]
    },
    {
      "cell_type": "markdown",
      "metadata": {
        "id": "t4-2GCsRtpO2"
      },
      "source": [
        "### Overview"
      ]
    },
    {
      "cell_type": "markdown",
      "metadata": {
        "id": "KuKCy3zOtpO3"
      },
      "source": [
        "- [Modeling complex functions with artificial neural networks](#Modeling-complex-functions-with-artificial-neural-networks)\n",
        "  - [Single-layer neural network recap](#Single-layer-neural-network-recap)\n",
        "  - [Introducing the multi-layer neural network architecture](#Introducing-the-multi-layer-neural-network-architecture)\n",
        "  - [Activating a neural network via forward propagation](#Activating-a-neural-network-via-forward-propagation)\n",
        "- [Classifying handwritten digits](#Classifying-handwritten-digits)\n",
        "  - [Obtaining the MNIST dataset](#Obtaining-the-MNIST-dataset)\n",
        "  - [Implementing a multi-layer perceptron](#Implementing-a-multi-layer-perceptron)\n",
        "  - [Coding the neural network training loop](#Coding-the-neural-network-training-loop)\n",
        "  - [Evaluating the neural network performance](#Evaluating-the-neural-network-performance)\n",
        "- [Training an artificial neural network](#Training-an-artificial-neural-network)\n",
        "  - [Computing the loss function](#Computing-the-loss-function)\n",
        "  - [Developing your intuition for backpropagation](#Developing-your-intuition-for-backpropagation)\n",
        "  - [Training neural networks via backpropagation](#Training-neural-networks-via-backpropagation)\n",
        "- [Convergence in neural networks](#Convergence-in-neural-networks)\n",
        "- [Summary](#Summary)"
      ]
    },
    {
      "cell_type": "markdown",
      "metadata": {
        "id": "cAWIB-3vtpO4"
      },
      "source": [
        "<br>\n",
        "<br>"
      ]
    },
    {
      "cell_type": "code",
      "execution_count": 3,
      "metadata": {
        "id": "pL73YQTStpO4"
      },
      "outputs": [],
      "source": [
        "from IPython.display import Image\n",
        "%matplotlib inline"
      ]
    },
    {
      "cell_type": "markdown",
      "metadata": {
        "id": "bPmnhh5UtpO8"
      },
      "source": [
        "# Classifying handwritten digits"
      ]
    },
    {
      "cell_type": "markdown",
      "metadata": {
        "id": "4TPQ89rVtpO9"
      },
      "source": [
        "## Obtaining and preparing the MNIST dataset"
      ]
    },
    {
      "cell_type": "markdown",
      "metadata": {
        "id": "ug8ytIUotpO9"
      },
      "source": [
        "The MNIST dataset is publicly available at http://yann.lecun.com/exdb/mnist/ and consists of the following four parts:\n",
        "\n",
        "- Training set images: train-images-idx3-ubyte.gz (9.9 MB, 47 MB unzipped, 60,000 examples)\n",
        "- Training set labels: train-labels-idx1-ubyte.gz (29 KB, 60 KB unzipped, 60,000 labels)\n",
        "- Test set images: t10k-images-idx3-ubyte.gz (1.6 MB, 7.8 MB, 10,000 examples)\n",
        "- Test set labels: t10k-labels-idx1-ubyte.gz (5 KB, 10 KB unzipped, 10,000 labels)\n",
        "\n"
      ]
    },
    {
      "cell_type": "code",
      "execution_count": 4,
      "metadata": {
        "id": "7LkPVCe1tpO9",
        "outputId": "4ebecfac-d248-4049-b404-8a82cc48faeb",
        "colab": {
          "base_uri": "https://localhost:8080/"
        }
      },
      "outputs": [
        {
          "output_type": "stream",
          "name": "stdout",
          "text": [
            "(70000, 784)\n",
            "(70000,)\n"
          ]
        }
      ],
      "source": [
        "from sklearn.datasets import fetch_openml\n",
        "\n",
        "\n",
        "X, y = fetch_openml('mnist_784', version=1, return_X_y=True)\n",
        "X = X.values\n",
        "y = y.astype(int).values\n",
        "\n",
        "print(X.shape)\n",
        "print(y.shape)"
      ]
    },
    {
      "cell_type": "markdown",
      "metadata": {
        "id": "2R7yl10mtpO9"
      },
      "source": [
        "Normalize to [-1, 1] range:"
      ]
    },
    {
      "cell_type": "code",
      "execution_count": 5,
      "metadata": {
        "id": "sM-Z08hktpO-"
      },
      "outputs": [],
      "source": [
        "X = ((X / 255.) - .5) * 2"
      ]
    },
    {
      "cell_type": "markdown",
      "metadata": {
        "id": "Cdq9PluAtpO-"
      },
      "source": [
        "Visualize the first digit of each class:"
      ]
    },
    {
      "cell_type": "code",
      "execution_count": 6,
      "metadata": {
        "id": "5xg1e2IVtpO-",
        "outputId": "5ba7b0e0-3ede-43b5-e5f7-0d4d4ac6df9a",
        "colab": {
          "base_uri": "https://localhost:8080/",
          "height": 0
        }
      },
      "outputs": [
        {
          "output_type": "display_data",
          "data": {
            "text/plain": [
              "<Figure size 432x288 with 10 Axes>"
            ],
            "image/png": "[encoded data removed]"
          },
          "metadata": {}
        }
      ],
      "source": [
        "import matplotlib.pyplot as plt\n",
        "\n",
        "fig, ax = plt.subplots(nrows=2, ncols=5, sharex=True, sharey=True)\n",
        "ax = ax.flatten()\n",
        "for i in range(10):\n",
        "    img = X[y == i][0].reshape(28, 28)\n",
        "    ax[i].imshow(img, cmap='Greys')\n",
        "\n",
        "ax[0].set_xticks([])\n",
        "ax[0].set_yticks([])\n",
        "plt.tight_layout()\n",
        "#plt.savefig('figures/11_4.png', dpi=300)\n",
        "plt.show()"
      ]
    },
    {
      "cell_type": "markdown",
      "metadata": {
        "id": "lt6edqFZtpO-"
      },
      "source": [
        "Visualize 25 different versions of \"7\":"
      ]
    },
    {
      "cell_type": "code",
      "execution_count": 7,
      "metadata": {
        "scrolled": true,
        "id": "k0awnggQtpO-",
        "outputId": "f1543776-af0d-4ecc-82b6-903ec39d04b9",
        "colab": {
          "base_uri": "https://localhost:8080/",
          "height": 0
        }
      },
      "outputs": [
        {
          "output_type": "display_data",
          "data": {
            "text/plain": [
              "<Figure size 432x288 with 25 Axes>"
            ],
            "image/png": "[encoded data removed]"
          },
          "metadata": {}
        }
      ],
      "source": [
        "fig, ax = plt.subplots(nrows=5, ncols=5, sharex=True, sharey=True)\n",
        "ax = ax.flatten()\n",
        "for i in range(25):\n",
        "    img = X[y == 7][i].reshape(28, 28)\n",
        "    ax[i].imshow(img, cmap='Greys')\n",
        "\n",
        "ax[0].set_xticks([])\n",
        "ax[0].set_yticks([])\n",
        "plt.tight_layout()\n",
        "# plt.savefig('figures/11_5.png', dpi=300)\n",
        "plt.show()"
      ]
    },
    {
      "cell_type": "markdown",
      "metadata": {
        "id": "80FRXuJ7tpO_"
      },
      "source": [
        "Split into training, validation, and test set:"
      ]
    },
    {
      "cell_type": "code",
      "execution_count": 8,
      "metadata": {
        "id": "x5I9f1ArtpO_"
      },
      "outputs": [],
      "source": [
        "from sklearn.model_selection import train_test_split\n",
        "\n",
        "\n",
        "X_temp, X_test, y_temp, y_test = train_test_split(\n",
        "    X, y, test_size=10000, random_state=123, stratify=y)\n",
        "\n",
        "X_train, X_valid, y_train, y_valid = train_test_split(\n",
        "    X_temp, y_temp, test_size=5000, random_state=123, stratify=y_temp)\n",
        "\n",
        "\n",
        "# optional to free up some memory by deleting non-used arrays:\n",
        "del X_temp, y_temp, X, y"
      ]
    },
    {
      "cell_type": "markdown",
      "metadata": {
        "id": "-vXDUCNAtpO_"
      },
      "source": [
        "<br>\n",
        "<br>"
      ]
    },
    {
      "cell_type": "markdown",
      "metadata": {
        "id": "CyWwv1u3tpO_"
      },
      "source": [
        "## Implementing a multi-layer perceptron"
      ]
    },
    {
      "cell_type": "code",
      "execution_count": 9,
      "metadata": {
        "id": "Bk0NVZmatpPA"
      },
      "outputs": [],
      "source": [
        "import numpy as np"
      ]
    },
    {
      "cell_type": "code",
      "execution_count": 10,
      "metadata": {
        "id": "lokBBCIrtpPA"
      },
      "outputs": [],
      "source": [
        "##########################\n",
        "### MODEL\n",
        "##########################\n",
        "\n",
        "def sigmoid(z):                                        \n",
        "    return 1. / (1. + np.exp(-z))\n",
        "\n",
        "\n",
        "def int_to_onehot(y, num_labels):\n",
        "\n",
        "    ary = np.zeros((y.shape[0], num_labels))\n",
        "    for i, val in enumerate(y):\n",
        "        ary[i, val] = 1\n",
        "\n",
        "    return ary\n",
        "\n",
        "\n",
        "class NeuralNetMLP:\n",
        "\n",
        "    def __init__(self, num_features, num_hidden, num_classes, random_seed=123):\n",
        "        super().__init__()\n",
        "        \n",
        "        self.num_classes = num_classes\n",
        "        \n",
        "        # hidden\n",
        "        rng = np.random.RandomState(random_seed)\n",
        "        \n",
        "        self.weight_h = rng.normal(\n",
        "            loc=0.0, scale=0.1, size=(num_hidden, num_features))\n",
        "        self.bias_h = np.zeros(num_hidden)\n",
        "        \n",
        "        # output\n",
        "        self.weight_out = rng.normal(\n",
        "            loc=0.0, scale=0.1, size=(num_classes, num_hidden))\n",
        "        self.bias_out = np.zeros(num_classes)\n",
        "        \n",
        "    def forward(self, x):\n",
        "        # Hidden layer\n",
        "        # input dim: [n_examples, n_features] dot [n_hidden, n_features].T\n",
        "        # output dim: [n_examples, n_hidden]\n",
        "        z_h = np.dot(x, self.weight_h.T) + self.bias_h\n",
        "        a_h = sigmoid(z_h)\n",
        "\n",
        "        # Output layer\n",
        "        # input dim: [n_examples, n_hidden] dot [n_classes, n_hidden].T\n",
        "        # output dim: [n_examples, n_classes]\n",
        "        z_out = np.dot(a_h, self.weight_out.T) + self.bias_out\n",
        "        a_out = sigmoid(z_out)\n",
        "        return a_h, a_out\n",
        "\n",
        "    def backward(self, x, a_h, a_out, y):  \n",
        "    \n",
        "        #########################\n",
        "        ### Output layer weights\n",
        "        #########################\n",
        "        \n",
        "        # onehot encoding\n",
        "        y_onehot = int_to_onehot(y, self.num_classes)\n",
        "\n",
        "        # Part 1: dLoss/dOutWeights\n",
        "        ## = dLoss/dOutAct * dOutAct/dOutNet * dOutNet/dOutWeight\n",
        "        ## where DeltaOut = dLoss/dOutAct * dOutAct/dOutNet\n",
        "        ## for convenient re-use\n",
        "        \n",
        "        # input/output dim: [n_examples, n_classes]\n",
        "        d_loss__d_a_out = 2.*(a_out - y_onehot) / y.shape[0]\n",
        "\n",
        "        # input/output dim: [n_examples, n_classes]\n",
        "        d_a_out__d_z_out = a_out * (1. - a_out) # sigmoid derivative\n",
        "\n",
        "        # output dim: [n_examples, n_classes]\n",
        "        delta_out = d_loss__d_a_out * d_a_out__d_z_out # \"delta (rule) placeholder\"\n",
        "\n",
        "        # gradient for output weights\n",
        "        \n",
        "        # [n_examples, n_hidden]\n",
        "        d_z_out__dw_out = a_h\n",
        "        \n",
        "        # input dim: [n_classes, n_examples] dot [n_examples, n_hidden]\n",
        "        # output dim: [n_classes, n_hidden]\n",
        "        d_loss__dw_out = np.dot(delta_out.T, d_z_out__dw_out)\n",
        "        d_loss__db_out = np.sum(delta_out, axis=0)\n",
        "        \n",
        "\n",
        "        #################################        \n",
        "        # Part 2: dLoss/dHiddenWeights\n",
        "        ## = DeltaOut * dOutNet/dHiddenAct * dHiddenAct/dHiddenNet * dHiddenNet/dWeight\n",
        "        \n",
        "        # [n_classes, n_hidden]\n",
        "        d_z_out__a_h = self.weight_out\n",
        "        \n",
        "        # output dim: [n_examples, n_hidden]\n",
        "        d_loss__a_h = np.dot(delta_out, d_z_out__a_h)\n",
        "        \n",
        "        # [n_examples, n_hidden]\n",
        "        d_a_h__d_z_h = a_h * (1. - a_h) # sigmoid derivative\n",
        "        \n",
        "        # [n_examples, n_features]\n",
        "        d_z_h__d_w_h = x\n",
        "        \n",
        "        # output dim: [n_hidden, n_features]\n",
        "        d_loss__d_w_h = np.dot((d_loss__a_h * d_a_h__d_z_h).T, d_z_h__d_w_h)\n",
        "        d_loss__d_b_h = np.sum((d_loss__a_h * d_a_h__d_z_h), axis=0)\n",
        "\n",
        "        return (d_loss__dw_out, d_loss__db_out, \n",
        "                d_loss__d_w_h, d_loss__d_b_h)"
      ]
    },
    {
      "cell_type": "code",
      "execution_count": 11,
      "metadata": {
        "id": "vpssaXk3tpPB"
      },
      "outputs": [],
      "source": [
        "model = NeuralNetMLP(num_features=28*28,\n",
        "                     num_hidden=50,\n",
        "                     num_classes=10)"
      ]
    },
    {
      "cell_type": "markdown",
      "metadata": {
        "id": "bhKb6ioGtpPB"
      },
      "source": [
        "## Coding the neural network training loop"
      ]
    },
    {
      "cell_type": "markdown",
      "metadata": {
        "id": "-ZsI097DtpPB"
      },
      "source": [
        "Defining data loaders:"
      ]
    },
    {
      "cell_type": "code",
      "execution_count": 12,
      "metadata": {
        "id": "Dxv6U7xFtpPB"
      },
      "outputs": [],
      "source": [
        "import numpy as np\n",
        "\n",
        "num_epochs = 100\n",
        "minibatch_size = 100\n",
        "\n",
        "\n",
        "def minibatch_generator(X, y, minibatch_size):\n",
        "    indices = np.arange(X.shape[0])\n",
        "    np.random.shuffle(indices)\n",
        "\n",
        "    for start_idx in range(0, indices.shape[0] - minibatch_size \n",
        "                           + 1, minibatch_size):\n",
        "        batch_idx = indices[start_idx:start_idx + minibatch_size]\n",
        "        \n",
        "        yield X[batch_idx], y[batch_idx]"
      ]
    },
    {
      "cell_type": "markdown",
      "metadata": {
        "id": "CShzItjktpPC"
      },
      "source": [
        "Defining a function to compute the loss and accuracy"
      ]
    },
    {
      "cell_type": "code",
      "execution_count": 13,
      "metadata": {
        "id": "Bf9uZQettpPC"
      },
      "outputs": [],
      "source": [
        "def mse_loss(targets, probas, num_labels=10):\n",
        "    onehot_targets = int_to_onehot(targets, num_labels=num_labels)\n",
        "    return np.mean((onehot_targets - probas)**2)\n",
        "\n",
        "\n",
        "def accuracy(targets, predicted_labels):\n",
        "    return np.mean(predicted_labels == targets) "
      ]
    },
    {
      "cell_type": "code",
      "execution_count": 14,
      "metadata": {
        "id": "hZ3Q-rT-tpPC"
      },
      "outputs": [],
      "source": [
        "def compute_mse_and_acc(nnet, X, y, num_labels=10, minibatch_size=100):\n",
        "    mse, correct_pred, num_examples = 0., 0, 0\n",
        "    minibatch_gen = minibatch_generator(X, y, minibatch_size)\n",
        "        \n",
        "    for i, (features, targets) in enumerate(minibatch_gen):\n",
        "\n",
        "        _, probas = nnet.forward(features)\n",
        "        predicted_labels = np.argmax(probas, axis=1)\n",
        "        \n",
        "        onehot_targets = int_to_onehot(targets, num_labels=num_labels)\n",
        "        loss = np.mean((onehot_targets - probas)**2)\n",
        "        correct_pred += (predicted_labels == targets).sum()\n",
        "        \n",
        "        num_examples += targets.shape[0]\n",
        "        mse += loss\n",
        "\n",
        "    mse = mse/i\n",
        "    acc = correct_pred/num_examples\n",
        "    return mse, acc"
      ]
    },
    {
      "cell_type": "code",
      "source": [
        "def train(model, X_train, y_train, X_valid, y_valid, num_epochs,\n",
        "          learning_rate=0.1):\n",
        "    \n",
        "    epoch_loss = []\n",
        "    epoch_train_acc = []\n",
        "    epoch_valid_acc = []\n",
        "    \n",
        "    for e in range(num_epochs):\n",
        "\n",
        "        # iterate over minibatches\n",
        "        minibatch_gen = minibatch_generator(\n",
        "            X_train, y_train, minibatch_size)\n",
        "\n",
        "        for X_train_mini, y_train_mini in minibatch_gen:\n",
        "            \n",
        "            #### Compute outputs ####\n",
        "            a_h, a_out = model.forward(X_train_mini)\n",
        "\n",
        "            #### Compute gradients ####\n",
        "            d_loss__d_w_out, d_loss__d_b_out, d_loss__d_w_h, d_loss__d_b_h = \\\n",
        "                model.backward(X_train_mini, a_h, a_out, y_train_mini)\n",
        "\n",
        "            #### Update weights ####\n",
        "            model.weight_h -= learning_rate * d_loss__d_w_h\n",
        "            model.bias_h -= learning_rate * d_loss__d_b_h\n",
        "            model.weight_out -= learning_rate * d_loss__d_w_out\n",
        "            model.bias_out -= learning_rate * d_loss__d_b_out\n",
        "        \n",
        "        #### Epoch Logging ####        \n",
        "        train_mse, train_acc = compute_mse_and_acc(model, X_train, y_train)\n",
        "        valid_mse, valid_acc = compute_mse_and_acc(model, X_valid, y_valid)\n",
        "        train_acc, valid_acc = train_acc*100, valid_acc*100\n",
        "        epoch_train_acc.append(train_acc)\n",
        "        epoch_valid_acc.append(valid_acc)\n",
        "        epoch_loss.append(train_mse)\n",
        "        print(f'Epoch: {e+1:03d}/{num_epochs:03d} '\n",
        "              f'| Train MSE: {train_mse:.2f} '\n",
        "              f'| Train Acc: {train_acc:.2f}% '\n",
        "              f'| Valid Acc: {valid_acc:.2f}%')\n",
        "\n",
        "    return epoch_loss, epoch_train_acc, epoch_valid_acc"
      ],
      "metadata": {
        "id": "kIC4kNrE-UdQ"
      },
      "execution_count": 15,
      "outputs": []
    },
    {
      "cell_type": "code",
      "source": [
        "np.random.seed(123) # for the training set shuffling\n",
        "\n",
        "epoch_loss, epoch_train_acc, epoch_valid_acc = train(\n",
        "    model, X_train, y_train, X_valid, y_valid,\n",
        "    num_epochs=100, learning_rate=0.1)"
      ],
      "metadata": {
        "colab": {
          "base_uri": "https://localhost:8080/"
        },
        "id": "1cUgldCl-UWS",
        "outputId": "61681f90-ec9a-404c-d98a-c835ba7882db"
      },
      "execution_count": 16,
      "outputs": [
        {
          "output_type": "stream",
          "name": "stdout",
          "text": [
            "Epoch: 001/100 | Train MSE: 0.05 | Train Acc: 76.15% | Valid Acc: 75.98%\n",
            "Epoch: 002/100 | Train MSE: 0.03 | Train Acc: 85.45% | Valid Acc: 85.04%\n",
            "Epoch: 003/100 | Train MSE: 0.02 | Train Acc: 87.82% | Valid Acc: 87.60%\n",
            "Epoch: 004/100 | Train MSE: 0.02 | Train Acc: 89.36% | Valid Acc: 89.28%\n",
            "Epoch: 005/100 | Train MSE: 0.02 | Train Acc: 90.21% | Valid Acc: 90.04%\n",
            "Epoch: 006/100 | Train MSE: 0.02 | Train Acc: 90.67% | Valid Acc: 90.54%\n",
            "Epoch: 007/100 | Train MSE: 0.02 | Train Acc: 91.12% | Valid Acc: 90.82%\n",
            "Epoch: 008/100 | Train MSE: 0.02 | Train Acc: 91.43% | Valid Acc: 91.26%\n",
            "Epoch: 009/100 | Train MSE: 0.01 | Train Acc: 91.84% | Valid Acc: 91.50%\n",
            "Epoch: 010/100 | Train MSE: 0.01 | Train Acc: 92.04% | Valid Acc: 91.84%\n",
            "Epoch: 011/100 | Train MSE: 0.01 | Train Acc: 92.30% | Valid Acc: 92.08%\n",
            "Epoch: 012/100 | Train MSE: 0.01 | Train Acc: 92.51% | Valid Acc: 92.24%\n",
            "Epoch: 013/100 | Train MSE: 0.01 | Train Acc: 92.65% | Valid Acc: 92.30%\n",
            "Epoch: 014/100 | Train MSE: 0.01 | Train Acc: 92.80% | Valid Acc: 92.60%\n",
            "Epoch: 015/100 | Train MSE: 0.01 | Train Acc: 93.04% | Valid Acc: 92.78%\n",
            "Epoch: 016/100 | Train MSE: 0.01 | Train Acc: 93.14% | Valid Acc: 92.68%\n",
            "Epoch: 017/100 | Train MSE: 0.01 | Train Acc: 93.28% | Valid Acc: 92.96%\n",
            "Epoch: 018/100 | Train MSE: 0.01 | Train Acc: 93.40% | Valid Acc: 93.00%\n",
            "Epoch: 019/100 | Train MSE: 0.01 | Train Acc: 93.47% | Valid Acc: 93.08%\n",
            "Epoch: 020/100 | Train MSE: 0.01 | Train Acc: 93.67% | Valid Acc: 93.38%\n",
            "Epoch: 021/100 | Train MSE: 0.01 | Train Acc: 93.70% | Valid Acc: 93.48%\n",
            "Epoch: 022/100 | Train MSE: 0.01 | Train Acc: 93.82% | Valid Acc: 93.54%\n",
            "Epoch: 023/100 | Train MSE: 0.01 | Train Acc: 93.99% | Valid Acc: 93.66%\n",
            "Epoch: 024/100 | Train MSE: 0.01 | Train Acc: 94.07% | Valid Acc: 93.80%\n",
            "Epoch: 025/100 | Train MSE: 0.01 | Train Acc: 94.10% | Valid Acc: 93.60%\n",
            "Epoch: 026/100 | Train MSE: 0.01 | Train Acc: 94.30% | Valid Acc: 93.94%\n",
            "Epoch: 027/100 | Train MSE: 0.01 | Train Acc: 94.32% | Valid Acc: 94.04%\n",
            "Epoch: 028/100 | Train MSE: 0.01 | Train Acc: 94.41% | Valid Acc: 94.08%\n",
            "Epoch: 029/100 | Train MSE: 0.01 | Train Acc: 94.48% | Valid Acc: 93.98%\n",
            "Epoch: 030/100 | Train MSE: 0.01 | Train Acc: 94.54% | Valid Acc: 94.12%\n",
            "Epoch: 031/100 | Train MSE: 0.01 | Train Acc: 94.64% | Valid Acc: 94.10%\n",
            "Epoch: 032/100 | Train MSE: 0.01 | Train Acc: 94.69% | Valid Acc: 94.24%\n",
            "Epoch: 033/100 | Train MSE: 0.01 | Train Acc: 94.74% | Valid Acc: 94.00%\n",
            "Epoch: 034/100 | Train MSE: 0.01 | Train Acc: 94.84% | Valid Acc: 94.16%\n",
            "Epoch: 035/100 | Train MSE: 0.01 | Train Acc: 94.87% | Valid Acc: 94.28%\n",
            "Epoch: 036/100 | Train MSE: 0.01 | Train Acc: 94.95% | Valid Acc: 94.18%\n",
            "Epoch: 037/100 | Train MSE: 0.01 | Train Acc: 95.02% | Valid Acc: 94.26%\n",
            "Epoch: 038/100 | Train MSE: 0.01 | Train Acc: 95.11% | Valid Acc: 94.36%\n",
            "Epoch: 039/100 | Train MSE: 0.01 | Train Acc: 95.17% | Valid Acc: 94.26%\n",
            "Epoch: 040/100 | Train MSE: 0.01 | Train Acc: 95.18% | Valid Acc: 94.30%\n",
            "Epoch: 041/100 | Train MSE: 0.01 | Train Acc: 95.25% | Valid Acc: 94.48%\n",
            "Epoch: 042/100 | Train MSE: 0.01 | Train Acc: 95.28% | Valid Acc: 94.40%\n",
            "Epoch: 043/100 | Train MSE: 0.01 | Train Acc: 95.36% | Valid Acc: 94.34%\n",
            "Epoch: 044/100 | Train MSE: 0.01 | Train Acc: 95.39% | Valid Acc: 94.52%\n",
            "Epoch: 045/100 | Train MSE: 0.01 | Train Acc: 95.45% | Valid Acc: 94.52%\n",
            "Epoch: 046/100 | Train MSE: 0.01 | Train Acc: 95.49% | Valid Acc: 94.56%\n",
            "Epoch: 047/100 | Train MSE: 0.01 | Train Acc: 95.54% | Valid Acc: 94.64%\n",
            "Epoch: 048/100 | Train MSE: 0.01 | Train Acc: 95.57% | Valid Acc: 94.60%\n",
            "Epoch: 049/100 | Train MSE: 0.01 | Train Acc: 95.57% | Valid Acc: 94.66%\n",
            "Epoch: 050/100 | Train MSE: 0.01 | Train Acc: 95.61% | Valid Acc: 94.78%\n",
            "Epoch: 051/100 | Train MSE: 0.01 | Train Acc: 95.65% | Valid Acc: 94.64%\n",
            "Epoch: 052/100 | Train MSE: 0.01 | Train Acc: 95.75% | Valid Acc: 94.82%\n",
            "Epoch: 053/100 | Train MSE: 0.01 | Train Acc: 95.73% | Valid Acc: 94.74%\n",
            "Epoch: 054/100 | Train MSE: 0.01 | Train Acc: 95.79% | Valid Acc: 94.86%\n",
            "Epoch: 055/100 | Train MSE: 0.01 | Train Acc: 95.83% | Valid Acc: 94.78%\n",
            "Epoch: 056/100 | Train MSE: 0.01 | Train Acc: 95.84% | Valid Acc: 94.94%\n",
            "Epoch: 057/100 | Train MSE: 0.01 | Train Acc: 95.91% | Valid Acc: 94.94%\n",
            "Epoch: 058/100 | Train MSE: 0.01 | Train Acc: 95.98% | Valid Acc: 95.08%\n",
            "Epoch: 059/100 | Train MSE: 0.01 | Train Acc: 96.01% | Valid Acc: 94.98%\n",
            "Epoch: 060/100 | Train MSE: 0.01 | Train Acc: 96.04% | Valid Acc: 94.98%\n",
            "Epoch: 061/100 | Train MSE: 0.01 | Train Acc: 96.02% | Valid Acc: 95.04%\n",
            "Epoch: 062/100 | Train MSE: 0.01 | Train Acc: 96.09% | Valid Acc: 95.02%\n",
            "Epoch: 063/100 | Train MSE: 0.01 | Train Acc: 96.13% | Valid Acc: 95.06%\n",
            "Epoch: 064/100 | Train MSE: 0.01 | Train Acc: 96.12% | Valid Acc: 95.16%\n",
            "Epoch: 065/100 | Train MSE: 0.01 | Train Acc: 96.18% | Valid Acc: 95.22%\n",
            "Epoch: 066/100 | Train MSE: 0.01 | Train Acc: 96.23% | Valid Acc: 95.14%\n",
            "Epoch: 067/100 | Train MSE: 0.01 | Train Acc: 96.26% | Valid Acc: 95.22%\n",
            "Epoch: 068/100 | Train MSE: 0.01 | Train Acc: 96.27% | Valid Acc: 95.20%\n",
            "Epoch: 069/100 | Train MSE: 0.01 | Train Acc: 96.32% | Valid Acc: 95.30%\n",
            "Epoch: 070/100 | Train MSE: 0.01 | Train Acc: 96.37% | Valid Acc: 95.28%\n",
            "Epoch: 071/100 | Train MSE: 0.01 | Train Acc: 96.40% | Valid Acc: 95.28%\n",
            "Epoch: 072/100 | Train MSE: 0.01 | Train Acc: 96.39% | Valid Acc: 95.52%\n",
            "Epoch: 073/100 | Train MSE: 0.01 | Train Acc: 96.45% | Valid Acc: 95.36%\n",
            "Epoch: 074/100 | Train MSE: 0.01 | Train Acc: 96.41% | Valid Acc: 95.40%\n",
            "Epoch: 075/100 | Train MSE: 0.01 | Train Acc: 96.49% | Valid Acc: 95.34%\n",
            "Epoch: 076/100 | Train MSE: 0.01 | Train Acc: 96.52% | Valid Acc: 95.44%\n",
            "Epoch: 077/100 | Train MSE: 0.01 | Train Acc: 96.54% | Valid Acc: 95.38%\n",
            "Epoch: 078/100 | Train MSE: 0.01 | Train Acc: 96.56% | Valid Acc: 95.54%\n",
            "Epoch: 079/100 | Train MSE: 0.01 | Train Acc: 96.55% | Valid Acc: 95.36%\n",
            "Epoch: 080/100 | Train MSE: 0.01 | Train Acc: 96.62% | Valid Acc: 95.46%\n",
            "Epoch: 081/100 | Train MSE: 0.01 | Train Acc: 96.61% | Valid Acc: 95.52%\n",
            "Epoch: 082/100 | Train MSE: 0.01 | Train Acc: 96.63% | Valid Acc: 95.56%\n",
            "Epoch: 083/100 | Train MSE: 0.01 | Train Acc: 96.70% | Valid Acc: 95.62%\n",
            "Epoch: 084/100 | Train MSE: 0.01 | Train Acc: 96.70% | Valid Acc: 95.56%\n",
            "Epoch: 085/100 | Train MSE: 0.01 | Train Acc: 96.75% | Valid Acc: 95.64%\n",
            "Epoch: 086/100 | Train MSE: 0.01 | Train Acc: 96.75% | Valid Acc: 95.64%\n",
            "Epoch: 087/100 | Train MSE: 0.01 | Train Acc: 96.78% | Valid Acc: 95.62%\n",
            "Epoch: 088/100 | Train MSE: 0.01 | Train Acc: 96.81% | Valid Acc: 95.72%\n",
            "Epoch: 089/100 | Train MSE: 0.01 | Train Acc: 96.85% | Valid Acc: 95.72%\n",
            "Epoch: 090/100 | Train MSE: 0.01 | Train Acc: 96.85% | Valid Acc: 95.62%\n",
            "Epoch: 091/100 | Train MSE: 0.01 | Train Acc: 96.89% | Valid Acc: 95.74%\n",
            "Epoch: 092/100 | Train MSE: 0.01 | Train Acc: 96.90% | Valid Acc: 95.66%\n",
            "Epoch: 093/100 | Train MSE: 0.01 | Train Acc: 96.88% | Valid Acc: 95.78%\n",
            "Epoch: 094/100 | Train MSE: 0.01 | Train Acc: 96.91% | Valid Acc: 95.78%\n",
            "Epoch: 095/100 | Train MSE: 0.01 | Train Acc: 96.97% | Valid Acc: 95.82%\n",
            "Epoch: 096/100 | Train MSE: 0.01 | Train Acc: 96.99% | Valid Acc: 95.82%\n",
            "Epoch: 097/100 | Train MSE: 0.01 | Train Acc: 96.96% | Valid Acc: 95.84%\n",
            "Epoch: 098/100 | Train MSE: 0.01 | Train Acc: 97.00% | Valid Acc: 95.80%\n",
            "Epoch: 099/100 | Train MSE: 0.01 | Train Acc: 97.03% | Valid Acc: 95.94%\n",
            "Epoch: 100/100 | Train MSE: 0.01 | Train Acc: 97.05% | Valid Acc: 95.88%\n"
          ]
        }
      ]
    },
    {
      "cell_type": "markdown",
      "metadata": {
        "id": "SDb_t68KtpPD"
      },
      "source": [
        "## Evaluating the neural network performance"
      ]
    },
    {
      "cell_type": "code",
      "execution_count": 17,
      "metadata": {
        "id": "UYfLieLPtpPD",
        "outputId": "f3228c8a-e4bb-4e6c-919c-ddb665264093",
        "colab": {
          "base_uri": "https://localhost:8080/",
          "height": 279
        }
      },
      "outputs": [
        {
          "output_type": "display_data",
          "data": {
            "text/plain": [
              "<Figure size 432x288 with 1 Axes>"
            ],
            "image/png": "[encoded data removed]"
          },
          "metadata": {
            "needs_background": "light"
          }
        }
      ],
      "source": [
        "plt.plot(range(len(epoch_loss)), epoch_loss)\n",
        "plt.ylabel('Mean squared error')\n",
        "plt.xlabel('Epoch')\n",
        "#plt.savefig('figures/11_07.png', dpi=300)\n",
        "plt.show()"
      ]
    },
    {
      "cell_type": "code",
      "execution_count": 18,
      "metadata": {
        "id": "fUu8_XoqtpPF",
        "outputId": "14c04f63-308d-4f7f-db77-abd2acee5a2b",
        "colab": {
          "base_uri": "https://localhost:8080/",
          "height": 279
        }
      },
      "outputs": [
        {
          "output_type": "display_data",
          "data": {
            "text/plain": [
              "<Figure size 432x288 with 1 Axes>"
            ],
            "image/png": "[encoded data removed]"
          },
          "metadata": {
            "needs_background": "light"
          }
        }
      ],
      "source": [
        "plt.plot(range(len(epoch_train_acc)), epoch_train_acc,\n",
        "         label='Training')\n",
        "plt.plot(range(len(epoch_valid_acc)), epoch_valid_acc,\n",
        "         label='Validation')\n",
        "plt.ylabel('Accuracy')\n",
        "plt.xlabel('Epochs')\n",
        "plt.legend(loc='lower right')\n",
        "#plt.savefig('figures/11_08.png', dpi=300)\n",
        "plt.show()"
      ]
    },
    {
      "cell_type": "code",
      "execution_count": 19,
      "metadata": {
        "id": "rUyVoGrvtpPF",
        "outputId": "a5de8ad0-ea3d-4e58-ade5-f0889e82c551",
        "colab": {
          "base_uri": "https://localhost:8080/"
        }
      },
      "outputs": [
        {
          "output_type": "stream",
          "name": "stdout",
          "text": [
            "Test accuracy: 95.44%\n"
          ]
        }
      ],
      "source": [
        "test_mse, test_acc = compute_mse_and_acc(model, X_test, y_test)\n",
        "print(f'Test accuracy: {test_acc*100:.2f}%')"
      ]
    },
    {
      "cell_type": "code",
      "source": [
        "from sklearn.metrics import roc_curve, auc\n",
        "from itertools import cycle\n",
        "\n",
        "n_classes = 10\n",
        "X_test_subset = X_test\n",
        "y_test_subset = y_test\n",
        "onehot_targets = int_to_onehot(y_test_subset, num_labels=n_classes)\n",
        "\n",
        "_, probas = model.forward(X_test_subset)\n",
        "fpr = dict()\n",
        "tpr = dict()\n",
        "roc_auc = dict()\n",
        "for i in range(10):\n",
        "    fpr[i], tpr[i], _ = roc_curve(onehot_targets[:, i], probas[:, i])\n",
        "    roc_auc[i] = auc(fpr[i], tpr[i])\n",
        "    \n",
        "all_fpr = np.unique(np.concatenate([fpr[i] for i in range(n_classes)]))\n",
        "\n",
        "mean_tpr = np.zeros_like(all_fpr)\n",
        "for i in range(n_classes):\n",
        "    mean_tpr += np.interp(all_fpr, fpr[i], tpr[i])\n",
        "\n",
        "mean_tpr /= n_classes\n",
        "\n",
        "fpr[\"macro\"] = all_fpr\n",
        "tpr[\"macro\"] = mean_tpr\n",
        "roc_auc[\"macro\"] = auc(fpr[\"macro\"], tpr[\"macro\"])\n",
        "roc_auc[\"macro\"]\n",
        "\n",
        "plt.plot(\n",
        "    fpr[\"macro\"],\n",
        "    tpr[\"macro\"],\n",
        "    label=\"curve area = {0:0.3f}\".format(roc_auc[\"macro\"]),\n",
        "    color=\"navy\",\n",
        "    linewidth=1,\n",
        ")\n",
        "plt.plot([0, 1], [0, 1], \"k--\")\n",
        "plt.xlim([0.0, 1.0])\n",
        "plt.ylim([0.0, 1.05])\n",
        "plt.xlabel(\"False Positive Rate\")\n",
        "plt.ylabel(\"True Positive Rate\")\n",
        "plt.title(\"AUC-ROC\")\n",
        "plt.legend(loc=\"lower right\")\n",
        "plt.show()"
      ],
      "metadata": {
        "colab": {
          "base_uri": "https://localhost:8080/",
          "height": 295
        },
        "id": "Vx6yFUFLmUwn",
        "outputId": "262d432c-6435-43bb-cd7a-806927d9e31c"
      },
      "execution_count": 51,
      "outputs": [
        {
          "output_type": "display_data",
          "data": {
            "text/plain": [
              "<Figure size 432x288 with 1 Axes>"
            ],
            "image/png": "[encoded data removed]"
          },
          "metadata": {
            "needs_background": "light"
          }
        }
      ]
    },
    {
      "cell_type": "markdown",
      "metadata": {
        "id": "XSg5sA-LtpPF"
      },
      "source": [
        "Plot failure cases:"
      ]
    },
    {
      "cell_type": "code",
      "execution_count": 20,
      "metadata": {
        "id": "xTVGUTictpPG"
      },
      "outputs": [],
      "source": [
        "X_test_subset = X_test[:1000, :]\n",
        "y_test_subset = y_test[:1000]\n",
        "\n",
        "_, probas = model.forward(X_test_subset)\n",
        "test_pred = np.argmax(probas, axis=1)\n",
        "\n",
        "misclassified_images = X_test_subset[y_test_subset != test_pred][:25]\n",
        "misclassified_labels = test_pred[y_test_subset != test_pred][:25]\n",
        "correct_labels = y_test_subset[y_test_subset != test_pred][:25]"
      ]
    },
    {
      "cell_type": "code",
      "execution_count": 21,
      "metadata": {
        "id": "fFD2B-m6tpPG",
        "outputId": "080d2e81-61a2-4646-c5df-31d2c855f313",
        "colab": {
          "base_uri": "https://localhost:8080/",
          "height": 585
        }
      },
      "outputs": [
        {
          "output_type": "display_data",
          "data": {
            "text/plain": [
              "<Figure size 576x576 with 25 Axes>"
            ],
            "image/png": "[encoded data removed]"
          },
          "metadata": {}
        }
      ],
      "source": [
        "fig, ax = plt.subplots(nrows=5, ncols=5, \n",
        "                       sharex=True, sharey=True, figsize=(8, 8))\n",
        "ax = ax.flatten()\n",
        "for i in range(25):\n",
        "    img = misclassified_images[i].reshape(28, 28)\n",
        "    ax[i].imshow(img, cmap='Greys', interpolation='nearest')\n",
        "    ax[i].set_title(f'{i+1}) '\n",
        "                    f'True: {correct_labels[i]}\\n'\n",
        "                    f' Predicted: {misclassified_labels[i]}')\n",
        "\n",
        "ax[0].set_xticks([])\n",
        "ax[0].set_yticks([])\n",
        "plt.tight_layout()\n",
        "#plt.savefig('figures/11_09.png', dpi=300)\n",
        "plt.show()"
      ]
    },
    {
      "cell_type": "markdown",
      "metadata": {
        "id": "gxrRo0NhtpPG"
      },
      "source": [
        "<br>\n",
        "<br>"
      ]
    },
    {
      "cell_type": "markdown",
      "source": [
        "## Implementing a model with two hidden layers"
      ],
      "metadata": {
        "id": "0vlCvIsmIIEs"
      }
    },
    {
      "cell_type": "code",
      "source": [
        "##########################\n",
        "### MODEL\n",
        "##########################\n",
        "\n",
        "def sigmoid(z):                                        \n",
        "    return 1. / (1. + np.exp(-z))\n",
        "\n",
        "\n",
        "def int_to_onehot(y, num_labels):\n",
        "\n",
        "    ary = np.zeros((y.shape[0], num_labels))\n",
        "    for i, val in enumerate(y):\n",
        "        ary[i, val] = 1\n",
        "\n",
        "    return ary\n",
        "\n",
        "\n",
        "class NeuralNetMLP_2_hidden_layers:\n",
        "\n",
        "    def __init__(self, num_features, num_hidden, num_hidden2, num_classes, random_seed=42):\n",
        "        super().__init__()\n",
        "        \n",
        "        rng = np.random.RandomState(random_seed)\n",
        "\n",
        "        self.num_classes = num_classes\n",
        "        \n",
        "        self.weight_h = rng.normal(\n",
        "            loc=0.0, scale=0.1, size=(num_hidden, num_features))\n",
        "        self.bias_h = np.zeros(num_hidden)\n",
        "\n",
        "        self.weight_h2 = rng.normal(\n",
        "            loc=0.0, scale=0.1, size=(num_hidden2, num_hidden))\n",
        "        self.bias_h2 = np.zeros(num_hidden2)\n",
        "        \n",
        "        self.weight_out = rng.normal(\n",
        "            loc=0.0, scale=0.1, size=(num_classes, num_hidden2))\n",
        "        self.bias_out = np.zeros(num_classes)\n",
        "        \n",
        "    def forward(self, x):\n",
        "        z_h = np.dot(x, self.weight_h.T) + self.bias_h\n",
        "        a_h = sigmoid(z_h)\n",
        "\n",
        "        z_h2 = np.dot(a_h, self.weight_h2.T) + self.bias_h2\n",
        "        a_h2 = sigmoid(z_h2)\n",
        "\n",
        "        z_out = np.dot(a_h2, self.weight_out.T) + self.bias_out\n",
        "        a_out = sigmoid(z_out)\n",
        "        return a_h, a_h2, a_out\n",
        "\n",
        "    def backward(self, x, a_h, a_h2, a_out, y):  \n",
        "        y_onehot = int_to_onehot(y, self.num_classes)\n",
        "        d_loss__d_a_out = 2.*(a_out - y_onehot) / y.shape[0]\n",
        "        d_a_out__d_z_out = a_out * (1. - a_out) \n",
        "        delta_out = d_loss__d_a_out * d_a_out__d_z_out\n",
        "        d_z_out__dw_out = a_h2\n",
        "        d_loss__dw_out = np.dot(delta_out.T, d_z_out__dw_out)\n",
        "        d_loss__db_out = np.sum(delta_out, axis=0)\n",
        "        \n",
        "        d_z_out_d_a_h2 = self.weight_out\n",
        "        d_a_h2__d_z_h2 = a_h2 * (1. - a_h2)\n",
        "        d_loss__d_z_h2 = np.dot(delta_out, d_z_out_d_a_h2) * d_a_h2__d_z_h2\n",
        "        d_z_h2__d_w_h2 = a_h\n",
        "        d_loss__d_w_h2 = np.dot(d_loss__d_z_h2.T, d_z_h2__d_w_h2)\n",
        "        d_loss__d_b_h2 = np.sum(d_loss__d_z_h2, axis=0)\n",
        "\n",
        "        d_z_h2__d_a_h = self.weight_h2\n",
        "        d_a_h__d_z_h = a_h * (1. - a_h)\n",
        "        d_loss__d_z_h = np.dot(d_loss__d_z_h2, d_z_h2__d_a_h) * d_a_h__d_z_h\n",
        "        d_z_h__d_w_h = x\n",
        "        d_loss__d_w_h = np.dot(d_loss__d_z_h.T, d_z_h__d_w_h)\n",
        "        d_loss__d_b_h = np.sum(d_loss__d_z_h, axis=0)\n",
        "\n",
        "        return (d_loss__dw_out, d_loss__db_out,\n",
        "                d_loss__d_w_h2, d_loss__d_b_h2,\n",
        "                d_loss__d_w_h, d_loss__d_b_h)"
      ],
      "metadata": {
        "id": "TI9DgAQ94q0Q"
      },
      "execution_count": 22,
      "outputs": []
    },
    {
      "cell_type": "code",
      "source": [
        "model2 = NeuralNetMLP_2_hidden_layers(num_features=28 * 28,\n",
        "                     num_hidden=50,\n",
        "                     num_hidden2=50,\n",
        "                     num_classes=10)"
      ],
      "metadata": {
        "id": "HWqbEld473g4"
      },
      "execution_count": 23,
      "outputs": []
    },
    {
      "cell_type": "markdown",
      "source": [
        "## Coding the two layer train loop"
      ],
      "metadata": {
        "id": "sOBhU3bxIg-y"
      }
    },
    {
      "cell_type": "code",
      "source": [
        "def compute_mse_and_acc2(nnet, X, y, num_labels=10, minibatch_size=100):\n",
        "    mse, correct_pred, num_examples = 0., 0, 0\n",
        "    minibatch_gen = minibatch_generator(X, y, minibatch_size)\n",
        "        \n",
        "    for i, (features, targets) in enumerate(minibatch_gen):\n",
        "\n",
        "        _, _, probas = nnet.forward(features)\n",
        "        predicted_labels = np.argmax(probas, axis=1)\n",
        "        \n",
        "        onehot_targets = int_to_onehot(targets, num_labels=num_labels)\n",
        "        loss = np.mean((onehot_targets - probas)**2)\n",
        "        correct_pred += (predicted_labels == targets).sum()\n",
        "        \n",
        "        num_examples += targets.shape[0]\n",
        "        mse += loss\n",
        "\n",
        "    mse = mse/i\n",
        "    acc = correct_pred/num_examples\n",
        "    return mse, acc"
      ],
      "metadata": {
        "id": "uCD8LdfHFR7s"
      },
      "execution_count": 24,
      "outputs": []
    },
    {
      "cell_type": "code",
      "execution_count": 25,
      "metadata": {
        "id": "LKMpfE-wtpPD"
      },
      "outputs": [],
      "source": [
        "def train2(model, X_train, y_train, X_valid, y_valid, num_epochs,\n",
        "          learning_rate=0.1):\n",
        "    \n",
        "    epoch_loss = []\n",
        "    epoch_train_acc = []\n",
        "    epoch_valid_acc = []\n",
        "    \n",
        "    for e in range(num_epochs):\n",
        "\n",
        "        # iterate over minibatches\n",
        "        minibatch_gen = minibatch_generator(\n",
        "            X_train, y_train, minibatch_size)\n",
        "\n",
        "        for X_train_mini, y_train_mini in minibatch_gen:\n",
        "            \n",
        "            #### Compute outputs ####\n",
        "            a_h, a_h2, a_out = model.forward(X_train_mini)\n",
        "\n",
        "            #### Compute gradients ####\n",
        "            d_loss__d_w_out, d_loss__d_b_out, d_loss__d_w_h2, d_loss__d_b_h2, d_loss__d_w_h, d_loss__d_b_h = \\\n",
        "                model.backward(X_train_mini, a_h, a_h2, a_out, y_train_mini)\n",
        "\n",
        "            #### Update weights ####\n",
        "            model.weight_h -= learning_rate * d_loss__d_w_h\n",
        "            model.bias_h -= learning_rate * d_loss__d_b_h\n",
        "            model.weight_h2 -= learning_rate * d_loss__d_w_h2\n",
        "            model.bias_h2 -= learning_rate * d_loss__d_b_h2\n",
        "            model.weight_out -= learning_rate * d_loss__d_w_out\n",
        "            model.bias_out -= learning_rate * d_loss__d_b_out\n",
        "        \n",
        "        #### Epoch Logging ####        \n",
        "        train_mse, train_acc = compute_mse_and_acc2(model, X_train, y_train)\n",
        "        valid_mse, valid_acc = compute_mse_and_acc2(model, X_valid, y_valid)\n",
        "        train_acc, valid_acc = train_acc*100, valid_acc*100\n",
        "        epoch_train_acc.append(train_acc)\n",
        "        epoch_valid_acc.append(valid_acc)\n",
        "        epoch_loss.append(train_mse)\n",
        "        print(f'Epoch: {e+1:03d}/{num_epochs:03d} '\n",
        "              f'| Train MSE: {train_mse:.2f} '\n",
        "              f'| Train Acc: {train_acc:.2f}% '\n",
        "              f'| Valid Acc: {valid_acc:.2f}%')\n",
        "\n",
        "    return epoch_loss, epoch_train_acc, epoch_valid_acc"
      ]
    },
    {
      "cell_type": "code",
      "execution_count": 26,
      "metadata": {
        "id": "LF-QfFFItpPD",
        "colab": {
          "base_uri": "https://localhost:8080/"
        },
        "outputId": "cf8c8c01-a5c0-4b47-8442-8b0f9e5eed9c"
      },
      "outputs": [
        {
          "output_type": "stream",
          "name": "stdout",
          "text": [
            "Epoch: 001/100 | Train MSE: 0.09 | Train Acc: 15.53% | Valid Acc: 15.72%\n",
            "Epoch: 002/100 | Train MSE: 0.09 | Train Acc: 23.79% | Valid Acc: 23.74%\n",
            "Epoch: 003/100 | Train MSE: 0.08 | Train Acc: 47.82% | Valid Acc: 49.32%\n",
            "Epoch: 004/100 | Train MSE: 0.06 | Train Acc: 58.64% | Valid Acc: 59.54%\n",
            "Epoch: 005/100 | Train MSE: 0.05 | Train Acc: 70.56% | Valid Acc: 71.42%\n",
            "Epoch: 006/100 | Train MSE: 0.04 | Train Acc: 75.67% | Valid Acc: 75.56%\n",
            "Epoch: 007/100 | Train MSE: 0.03 | Train Acc: 81.37% | Valid Acc: 81.36%\n",
            "Epoch: 008/100 | Train MSE: 0.03 | Train Acc: 85.41% | Valid Acc: 85.32%\n",
            "Epoch: 009/100 | Train MSE: 0.03 | Train Acc: 87.42% | Valid Acc: 87.62%\n",
            "Epoch: 010/100 | Train MSE: 0.02 | Train Acc: 88.57% | Valid Acc: 88.70%\n",
            "Epoch: 011/100 | Train MSE: 0.02 | Train Acc: 89.44% | Valid Acc: 89.36%\n",
            "Epoch: 012/100 | Train MSE: 0.02 | Train Acc: 90.10% | Valid Acc: 89.92%\n",
            "Epoch: 013/100 | Train MSE: 0.02 | Train Acc: 90.62% | Valid Acc: 90.48%\n",
            "Epoch: 014/100 | Train MSE: 0.02 | Train Acc: 90.90% | Valid Acc: 90.66%\n",
            "Epoch: 015/100 | Train MSE: 0.02 | Train Acc: 91.26% | Valid Acc: 90.78%\n",
            "Epoch: 016/100 | Train MSE: 0.01 | Train Acc: 91.72% | Valid Acc: 91.30%\n",
            "Epoch: 017/100 | Train MSE: 0.01 | Train Acc: 92.01% | Valid Acc: 91.62%\n",
            "Epoch: 018/100 | Train MSE: 0.01 | Train Acc: 92.17% | Valid Acc: 91.86%\n",
            "Epoch: 019/100 | Train MSE: 0.01 | Train Acc: 92.53% | Valid Acc: 92.06%\n",
            "Epoch: 020/100 | Train MSE: 0.01 | Train Acc: 92.79% | Valid Acc: 92.14%\n",
            "Epoch: 021/100 | Train MSE: 0.01 | Train Acc: 92.96% | Valid Acc: 92.54%\n",
            "Epoch: 022/100 | Train MSE: 0.01 | Train Acc: 93.05% | Valid Acc: 92.62%\n",
            "Epoch: 023/100 | Train MSE: 0.01 | Train Acc: 93.31% | Valid Acc: 92.70%\n",
            "Epoch: 024/100 | Train MSE: 0.01 | Train Acc: 93.45% | Valid Acc: 92.86%\n",
            "Epoch: 025/100 | Train MSE: 0.01 | Train Acc: 93.63% | Valid Acc: 93.08%\n",
            "Epoch: 026/100 | Train MSE: 0.01 | Train Acc: 93.76% | Valid Acc: 93.32%\n",
            "Epoch: 027/100 | Train MSE: 0.01 | Train Acc: 93.89% | Valid Acc: 93.22%\n",
            "Epoch: 028/100 | Train MSE: 0.01 | Train Acc: 94.13% | Valid Acc: 93.50%\n",
            "Epoch: 029/100 | Train MSE: 0.01 | Train Acc: 94.23% | Valid Acc: 93.66%\n",
            "Epoch: 030/100 | Train MSE: 0.01 | Train Acc: 94.28% | Valid Acc: 93.76%\n",
            "Epoch: 031/100 | Train MSE: 0.01 | Train Acc: 94.47% | Valid Acc: 93.74%\n",
            "Epoch: 032/100 | Train MSE: 0.01 | Train Acc: 94.55% | Valid Acc: 93.74%\n",
            "Epoch: 033/100 | Train MSE: 0.01 | Train Acc: 94.71% | Valid Acc: 94.08%\n",
            "Epoch: 034/100 | Train MSE: 0.01 | Train Acc: 94.79% | Valid Acc: 94.00%\n",
            "Epoch: 035/100 | Train MSE: 0.01 | Train Acc: 94.85% | Valid Acc: 94.26%\n",
            "Epoch: 036/100 | Train MSE: 0.01 | Train Acc: 94.93% | Valid Acc: 94.30%\n",
            "Epoch: 037/100 | Train MSE: 0.01 | Train Acc: 95.05% | Valid Acc: 94.46%\n",
            "Epoch: 038/100 | Train MSE: 0.01 | Train Acc: 95.22% | Valid Acc: 94.50%\n",
            "Epoch: 039/100 | Train MSE: 0.01 | Train Acc: 95.28% | Valid Acc: 94.54%\n",
            "Epoch: 040/100 | Train MSE: 0.01 | Train Acc: 95.28% | Valid Acc: 94.46%\n",
            "Epoch: 041/100 | Train MSE: 0.01 | Train Acc: 95.48% | Valid Acc: 94.70%\n",
            "Epoch: 042/100 | Train MSE: 0.01 | Train Acc: 95.42% | Valid Acc: 94.50%\n",
            "Epoch: 043/100 | Train MSE: 0.01 | Train Acc: 95.47% | Valid Acc: 94.76%\n",
            "Epoch: 044/100 | Train MSE: 0.01 | Train Acc: 95.67% | Valid Acc: 94.84%\n",
            "Epoch: 045/100 | Train MSE: 0.01 | Train Acc: 95.68% | Valid Acc: 94.90%\n",
            "Epoch: 046/100 | Train MSE: 0.01 | Train Acc: 95.79% | Valid Acc: 94.98%\n",
            "Epoch: 047/100 | Train MSE: 0.01 | Train Acc: 95.81% | Valid Acc: 95.02%\n",
            "Epoch: 048/100 | Train MSE: 0.01 | Train Acc: 95.91% | Valid Acc: 95.08%\n",
            "Epoch: 049/100 | Train MSE: 0.01 | Train Acc: 95.92% | Valid Acc: 95.18%\n",
            "Epoch: 050/100 | Train MSE: 0.01 | Train Acc: 95.97% | Valid Acc: 94.98%\n",
            "Epoch: 051/100 | Train MSE: 0.01 | Train Acc: 96.14% | Valid Acc: 95.18%\n",
            "Epoch: 052/100 | Train MSE: 0.01 | Train Acc: 96.16% | Valid Acc: 95.30%\n",
            "Epoch: 053/100 | Train MSE: 0.01 | Train Acc: 96.21% | Valid Acc: 95.32%\n",
            "Epoch: 054/100 | Train MSE: 0.01 | Train Acc: 96.28% | Valid Acc: 95.22%\n",
            "Epoch: 055/100 | Train MSE: 0.01 | Train Acc: 96.30% | Valid Acc: 95.50%\n",
            "Epoch: 056/100 | Train MSE: 0.01 | Train Acc: 96.37% | Valid Acc: 95.38%\n",
            "Epoch: 057/100 | Train MSE: 0.01 | Train Acc: 96.41% | Valid Acc: 95.42%\n",
            "Epoch: 058/100 | Train MSE: 0.01 | Train Acc: 96.46% | Valid Acc: 95.52%\n",
            "Epoch: 059/100 | Train MSE: 0.01 | Train Acc: 96.56% | Valid Acc: 95.60%\n",
            "Epoch: 060/100 | Train MSE: 0.01 | Train Acc: 96.54% | Valid Acc: 95.56%\n",
            "Epoch: 061/100 | Train MSE: 0.01 | Train Acc: 96.59% | Valid Acc: 95.60%\n",
            "Epoch: 062/100 | Train MSE: 0.01 | Train Acc: 96.68% | Valid Acc: 95.68%\n",
            "Epoch: 063/100 | Train MSE: 0.01 | Train Acc: 96.68% | Valid Acc: 95.68%\n",
            "Epoch: 064/100 | Train MSE: 0.01 | Train Acc: 96.79% | Valid Acc: 95.68%\n",
            "Epoch: 065/100 | Train MSE: 0.01 | Train Acc: 96.82% | Valid Acc: 95.74%\n",
            "Epoch: 066/100 | Train MSE: 0.01 | Train Acc: 96.88% | Valid Acc: 95.70%\n",
            "Epoch: 067/100 | Train MSE: 0.01 | Train Acc: 96.92% | Valid Acc: 95.76%\n",
            "Epoch: 068/100 | Train MSE: 0.01 | Train Acc: 96.93% | Valid Acc: 95.86%\n",
            "Epoch: 069/100 | Train MSE: 0.01 | Train Acc: 96.87% | Valid Acc: 95.80%\n",
            "Epoch: 070/100 | Train MSE: 0.01 | Train Acc: 97.01% | Valid Acc: 95.84%\n",
            "Epoch: 071/100 | Train MSE: 0.01 | Train Acc: 97.01% | Valid Acc: 95.76%\n",
            "Epoch: 072/100 | Train MSE: 0.01 | Train Acc: 97.06% | Valid Acc: 95.92%\n",
            "Epoch: 073/100 | Train MSE: 0.01 | Train Acc: 97.09% | Valid Acc: 95.88%\n",
            "Epoch: 074/100 | Train MSE: 0.01 | Train Acc: 97.17% | Valid Acc: 95.90%\n",
            "Epoch: 075/100 | Train MSE: 0.01 | Train Acc: 97.17% | Valid Acc: 95.94%\n",
            "Epoch: 076/100 | Train MSE: 0.01 | Train Acc: 97.23% | Valid Acc: 96.06%\n",
            "Epoch: 077/100 | Train MSE: 0.01 | Train Acc: 97.25% | Valid Acc: 96.00%\n",
            "Epoch: 078/100 | Train MSE: 0.01 | Train Acc: 97.28% | Valid Acc: 95.98%\n",
            "Epoch: 079/100 | Train MSE: 0.01 | Train Acc: 97.33% | Valid Acc: 96.06%\n",
            "Epoch: 080/100 | Train MSE: 0.01 | Train Acc: 97.32% | Valid Acc: 96.08%\n",
            "Epoch: 081/100 | Train MSE: 0.00 | Train Acc: 97.40% | Valid Acc: 96.06%\n",
            "Epoch: 082/100 | Train MSE: 0.01 | Train Acc: 97.39% | Valid Acc: 96.10%\n",
            "Epoch: 083/100 | Train MSE: 0.00 | Train Acc: 97.42% | Valid Acc: 96.14%\n",
            "Epoch: 084/100 | Train MSE: 0.00 | Train Acc: 97.45% | Valid Acc: 96.02%\n",
            "Epoch: 085/100 | Train MSE: 0.00 | Train Acc: 97.49% | Valid Acc: 96.22%\n",
            "Epoch: 086/100 | Train MSE: 0.00 | Train Acc: 97.54% | Valid Acc: 96.24%\n",
            "Epoch: 087/100 | Train MSE: 0.00 | Train Acc: 97.55% | Valid Acc: 96.22%\n",
            "Epoch: 088/100 | Train MSE: 0.00 | Train Acc: 97.58% | Valid Acc: 96.30%\n",
            "Epoch: 089/100 | Train MSE: 0.00 | Train Acc: 97.60% | Valid Acc: 96.30%\n",
            "Epoch: 090/100 | Train MSE: 0.00 | Train Acc: 97.55% | Valid Acc: 96.20%\n",
            "Epoch: 091/100 | Train MSE: 0.00 | Train Acc: 97.59% | Valid Acc: 96.24%\n",
            "Epoch: 092/100 | Train MSE: 0.00 | Train Acc: 97.67% | Valid Acc: 96.32%\n",
            "Epoch: 093/100 | Train MSE: 0.00 | Train Acc: 97.63% | Valid Acc: 96.26%\n",
            "Epoch: 094/100 | Train MSE: 0.00 | Train Acc: 97.71% | Valid Acc: 96.40%\n",
            "Epoch: 095/100 | Train MSE: 0.00 | Train Acc: 97.72% | Valid Acc: 96.40%\n",
            "Epoch: 096/100 | Train MSE: 0.00 | Train Acc: 97.76% | Valid Acc: 96.36%\n",
            "Epoch: 097/100 | Train MSE: 0.00 | Train Acc: 97.76% | Valid Acc: 96.46%\n",
            "Epoch: 098/100 | Train MSE: 0.00 | Train Acc: 97.79% | Valid Acc: 96.42%\n",
            "Epoch: 099/100 | Train MSE: 0.00 | Train Acc: 97.79% | Valid Acc: 96.36%\n",
            "Epoch: 100/100 | Train MSE: 0.00 | Train Acc: 97.84% | Valid Acc: 96.54%\n"
          ]
        }
      ],
      "source": [
        "np.random.seed(42) # for the training set shuffling\n",
        "\n",
        "epoch_loss2, epoch_train_acc2, epoch_valid_acc2 = train2(\n",
        "    model2, X_train, y_train, X_valid, y_valid,\n",
        "    num_epochs=100, learning_rate=0.1)"
      ]
    },
    {
      "cell_type": "markdown",
      "source": [
        "## Evaluating the two layer model"
      ],
      "metadata": {
        "id": "ldbhgqI1InR8"
      }
    },
    {
      "cell_type": "code",
      "source": [
        "plt.plot(range(len(epoch_loss2)), epoch_loss2)\n",
        "plt.ylabel('Mean squared error')\n",
        "plt.xlabel('Epoch')\n",
        "#plt.savefig('figures/11_07.png', dpi=300)\n",
        "plt.show()"
      ],
      "metadata": {
        "colab": {
          "base_uri": "https://localhost:8080/",
          "height": 279
        },
        "id": "EX-tRWp1I29d",
        "outputId": "7be31c45-1f76-4e81-97c6-bec1b9601225"
      },
      "execution_count": 27,
      "outputs": [
        {
          "output_type": "display_data",
          "data": {
            "text/plain": [
              "<Figure size 432x288 with 1 Axes>"
            ],
            "image/png": "[encoded data removed]"
          },
          "metadata": {
            "needs_background": "light"
          }
        }
      ]
    },
    {
      "cell_type": "code",
      "source": [
        "plt.plot(range(len(epoch_train_acc2)), epoch_train_acc2,\n",
        "         label='Training')\n",
        "plt.plot(range(len(epoch_valid_acc2)), epoch_valid_acc2,\n",
        "         label='Validation')\n",
        "plt.ylabel('Accuracy')\n",
        "plt.xlabel('Epochs')\n",
        "plt.legend(loc='lower right')\n",
        "#plt.savefig('figures/11_08.png', dpi=300)\n",
        "plt.show()"
      ],
      "metadata": {
        "colab": {
          "base_uri": "https://localhost:8080/",
          "height": 279
        },
        "id": "atAqQdr9I4_w",
        "outputId": "fbc99000-99eb-4ba2-de06-74a11cd1361e"
      },
      "execution_count": 28,
      "outputs": [
        {
          "output_type": "display_data",
          "data": {
            "text/plain": [
              "<Figure size 432x288 with 1 Axes>"
            ],
            "image/png": "[encoded data removed]"
          },
          "metadata": {
            "needs_background": "light"
          }
        }
      ]
    },
    {
      "cell_type": "code",
      "source": [
        "test_mse2, test_acc2 = compute_mse_and_acc2(model2, X_test, y_test)\n",
        "print(f'Test accuracy: {test_acc2*100:.2f}%')"
      ],
      "metadata": {
        "colab": {
          "base_uri": "https://localhost:8080/"
        },
        "id": "ZWAuJ7NhJDAa",
        "outputId": "c149ceef-19a1-42d4-8177-330bb989efd4"
      },
      "execution_count": 29,
      "outputs": [
        {
          "output_type": "stream",
          "name": "stdout",
          "text": [
            "Test accuracy: 96.39%\n"
          ]
        }
      ]
    },
    {
      "cell_type": "code",
      "source": [
        "from sklearn.metrics import roc_curve, auc\n",
        "from itertools import cycle\n",
        "\n",
        "n_classes = 10\n",
        "X_test_subset = X_test\n",
        "y_test_subset = y_test\n",
        "onehot_targets = int_to_onehot(y_test_subset, num_labels=n_classes)\n",
        "\n",
        "_, _, probas = model2.forward(X_test_subset)\n",
        "fpr = dict()\n",
        "tpr = dict()\n",
        "roc_auc = dict()\n",
        "for i in range(10):\n",
        "    fpr[i], tpr[i], _ = roc_curve(onehot_targets[:, i], probas[:, i])\n",
        "    roc_auc[i] = auc(fpr[i], tpr[i])\n",
        "    \n",
        "all_fpr = np.unique(np.concatenate([fpr[i] for i in range(n_classes)]))\n",
        "\n",
        "mean_tpr = np.zeros_like(all_fpr)\n",
        "for i in range(n_classes):\n",
        "    mean_tpr += np.interp(all_fpr, fpr[i], tpr[i])\n",
        "\n",
        "mean_tpr /= n_classes\n",
        "\n",
        "fpr[\"macro\"] = all_fpr\n",
        "tpr[\"macro\"] = mean_tpr\n",
        "roc_auc[\"macro\"] = auc(fpr[\"macro\"], tpr[\"macro\"])\n",
        "roc_auc[\"macro\"]\n",
        "\n",
        "# Plot macro-ROC curve\n",
        "plt.plot(\n",
        "    fpr[\"macro\"],\n",
        "    tpr[\"macro\"],\n",
        "    label=\"curve area = {0:0.3f}\".format(roc_auc[\"macro\"]),\n",
        "    color=\"navy\",\n",
        "    linewidth=1,\n",
        ")\n",
        "\n",
        "plt.plot([0, 1], [0, 1], \"k--\")\n",
        "plt.xlim([0.0, 1.0])\n",
        "plt.ylim([0.0, 1.05])\n",
        "plt.xlabel(\"False Positive Rate\")\n",
        "plt.ylabel(\"True Positive Rate\")\n",
        "plt.title(\"AUC-ROC\")\n",
        "plt.legend(loc=\"lower right\")\n",
        "plt.show()"
      ],
      "metadata": {
        "colab": {
          "base_uri": "https://localhost:8080/",
          "height": 295
        },
        "id": "XBvBP1h0mZBB",
        "outputId": "f09faf7e-2d70-4776-c58d-1df97455bb6e"
      },
      "execution_count": 52,
      "outputs": [
        {
          "output_type": "display_data",
          "data": {
            "text/plain": [
              "<Figure size 432x288 with 1 Axes>"
            ],
            "image/png": "[encoded data removed]"
          },
          "metadata": {
            "needs_background": "light"
          }
        }
      ]
    },
    {
      "cell_type": "markdown",
      "source": [
        "## keras model"
      ],
      "metadata": {
        "id": "YfQqeCv2gfXu"
      }
    },
    {
      "cell_type": "code",
      "source": [
        "from keras.models import Sequential\n",
        "from keras.layers import Dense, Activation, Dropout\n",
        "\n",
        "hidden_units = 500\n",
        "input_size = 28*28\n",
        "num_labels = 10\n",
        "dropout = 0.4\n",
        "\n",
        "model3 = Sequential()\n",
        "model3.add(Dense(hidden_units, input_dim=input_size))\n",
        "model3.add(Activation('relu'))\n",
        "model3.add(Dropout(dropout))\n",
        "model3.add(Dense(hidden_units))\n",
        "model3.add(Activation('relu'))\n",
        "model3.add(Dropout(dropout))\n",
        "model3.add(Dense(num_labels))\n",
        "model3.add(Activation('softmax'))\n",
        "\n",
        "model3.compile(loss='sparse_categorical_crossentropy', \n",
        "              optimizer='adam',\n",
        "              metrics=['accuracy'])"
      ],
      "metadata": {
        "id": "p3fH3idageQH"
      },
      "execution_count": 44,
      "outputs": []
    },
    {
      "cell_type": "code",
      "source": [
        "model3.fit(X_train, y_train, epochs=100, batch_size=100)"
      ],
      "metadata": {
        "colab": {
          "base_uri": "https://localhost:8080/"
        },
        "id": "1JFwSElghinF",
        "outputId": "e06037f2-dd87-423e-d14e-eb2a91f0e5b4"
      },
      "execution_count": 45,
      "outputs": [
        {
          "output_type": "stream",
          "name": "stdout",
          "text": [
            "Epoch 1/100\n",
            "550/550 [==============================] - 9s 15ms/step - loss: 0.4415 - accuracy: 0.8605\n",
            "Epoch 2/100\n",
            "550/550 [==============================] - 8s 15ms/step - loss: 0.2529 - accuracy: 0.9215\n",
            "Epoch 3/100\n",
            "550/550 [==============================] - 8s 14ms/step - loss: 0.2125 - accuracy: 0.9351\n",
            "Epoch 4/100\n",
            "550/550 [==============================] - 9s 17ms/step - loss: 0.1911 - accuracy: 0.9417\n",
            "Epoch 5/100\n",
            "550/550 [==============================] - 9s 17ms/step - loss: 0.1721 - accuracy: 0.9465\n",
            "Epoch 6/100\n",
            "550/550 [==============================] - 9s 16ms/step - loss: 0.1602 - accuracy: 0.9503\n",
            "Epoch 7/100\n",
            "550/550 [==============================] - 14s 25ms/step - loss: 0.1503 - accuracy: 0.9533\n",
            "Epoch 8/100\n",
            "550/550 [==============================] - 11s 20ms/step - loss: 0.1482 - accuracy: 0.9537\n",
            "Epoch 9/100\n",
            "550/550 [==============================] - 8s 15ms/step - loss: 0.1412 - accuracy: 0.9568\n",
            "Epoch 10/100\n",
            "550/550 [==============================] - 8s 14ms/step - loss: 0.1338 - accuracy: 0.9577\n",
            "Epoch 11/100\n",
            "550/550 [==============================] - 9s 17ms/step - loss: 0.1312 - accuracy: 0.9596\n",
            "Epoch 12/100\n",
            "550/550 [==============================] - 11s 19ms/step - loss: 0.1253 - accuracy: 0.9614\n",
            "Epoch 13/100\n",
            "550/550 [==============================] - 9s 16ms/step - loss: 0.1245 - accuracy: 0.9619\n",
            "Epoch 14/100\n",
            "550/550 [==============================] - 9s 16ms/step - loss: 0.1164 - accuracy: 0.9632\n",
            "Epoch 15/100\n",
            "550/550 [==============================] - 8s 15ms/step - loss: 0.1165 - accuracy: 0.9632\n",
            "Epoch 16/100\n",
            "550/550 [==============================] - 8s 15ms/step - loss: 0.1122 - accuracy: 0.9652\n",
            "Epoch 17/100\n",
            "550/550 [==============================] - 8s 14ms/step - loss: 0.1072 - accuracy: 0.9664\n",
            "Epoch 18/100\n",
            "550/550 [==============================] - 8s 15ms/step - loss: 0.1100 - accuracy: 0.9666\n",
            "Epoch 19/100\n",
            "550/550 [==============================] - 8s 14ms/step - loss: 0.1044 - accuracy: 0.9679\n",
            "Epoch 20/100\n",
            "550/550 [==============================] - 8s 14ms/step - loss: 0.1061 - accuracy: 0.9663\n",
            "Epoch 21/100\n",
            "550/550 [==============================] - 8s 14ms/step - loss: 0.1010 - accuracy: 0.9685\n",
            "Epoch 22/100\n",
            "550/550 [==============================] - 8s 15ms/step - loss: 0.1030 - accuracy: 0.9681\n",
            "Epoch 23/100\n",
            "550/550 [==============================] - 8s 14ms/step - loss: 0.1007 - accuracy: 0.9693\n",
            "Epoch 24/100\n",
            "550/550 [==============================] - 8s 14ms/step - loss: 0.0975 - accuracy: 0.9691\n",
            "Epoch 25/100\n",
            "550/550 [==============================] - 9s 16ms/step - loss: 0.0947 - accuracy: 0.9709\n",
            "Epoch 26/100\n",
            "550/550 [==============================] - 12s 22ms/step - loss: 0.0915 - accuracy: 0.9711\n",
            "Epoch 27/100\n",
            "550/550 [==============================] - 9s 16ms/step - loss: 0.0965 - accuracy: 0.9705\n",
            "Epoch 28/100\n",
            "550/550 [==============================] - 9s 17ms/step - loss: 0.0984 - accuracy: 0.9697\n",
            "Epoch 29/100\n",
            "550/550 [==============================] - 8s 15ms/step - loss: 0.0927 - accuracy: 0.9714\n",
            "Epoch 30/100\n",
            "550/550 [==============================] - 8s 15ms/step - loss: 0.0957 - accuracy: 0.9704\n",
            "Epoch 31/100\n",
            "550/550 [==============================] - 8s 14ms/step - loss: 0.0895 - accuracy: 0.9726\n",
            "Epoch 32/100\n",
            "550/550 [==============================] - 8s 14ms/step - loss: 0.0889 - accuracy: 0.9719\n",
            "Epoch 33/100\n",
            "550/550 [==============================] - 8s 15ms/step - loss: 0.0892 - accuracy: 0.9721\n",
            "Epoch 34/100\n",
            "550/550 [==============================] - 8s 15ms/step - loss: 0.0910 - accuracy: 0.9722\n",
            "Epoch 35/100\n",
            "550/550 [==============================] - 8s 15ms/step - loss: 0.0911 - accuracy: 0.9721\n",
            "Epoch 36/100\n",
            "550/550 [==============================] - 8s 15ms/step - loss: 0.0846 - accuracy: 0.9729\n",
            "Epoch 37/100\n",
            "550/550 [==============================] - 8s 14ms/step - loss: 0.0859 - accuracy: 0.9742\n",
            "Epoch 38/100\n",
            "550/550 [==============================] - 8s 15ms/step - loss: 0.0854 - accuracy: 0.9739\n",
            "Epoch 39/100\n",
            "550/550 [==============================] - 8s 15ms/step - loss: 0.0882 - accuracy: 0.9731\n",
            "Epoch 40/100\n",
            "550/550 [==============================] - 8s 15ms/step - loss: 0.0775 - accuracy: 0.9757\n",
            "Epoch 41/100\n",
            "550/550 [==============================] - 9s 16ms/step - loss: 0.0819 - accuracy: 0.9753\n",
            "Epoch 42/100\n",
            "550/550 [==============================] - 8s 15ms/step - loss: 0.0861 - accuracy: 0.9741\n",
            "Epoch 43/100\n",
            "550/550 [==============================] - 8s 15ms/step - loss: 0.0777 - accuracy: 0.9757\n",
            "Epoch 44/100\n",
            "550/550 [==============================] - 8s 15ms/step - loss: 0.0828 - accuracy: 0.9745\n",
            "Epoch 45/100\n",
            "550/550 [==============================] - 8s 15ms/step - loss: 0.0786 - accuracy: 0.9760\n",
            "Epoch 46/100\n",
            "550/550 [==============================] - 8s 15ms/step - loss: 0.0759 - accuracy: 0.9770\n",
            "Epoch 47/100\n",
            "550/550 [==============================] - 8s 15ms/step - loss: 0.0801 - accuracy: 0.9756\n",
            "Epoch 48/100\n",
            "550/550 [==============================] - 8s 14ms/step - loss: 0.0832 - accuracy: 0.9744\n",
            "Epoch 49/100\n",
            "550/550 [==============================] - 8s 15ms/step - loss: 0.0786 - accuracy: 0.9763\n",
            "Epoch 50/100\n",
            "550/550 [==============================] - 8s 15ms/step - loss: 0.0815 - accuracy: 0.9753\n",
            "Epoch 51/100\n",
            "550/550 [==============================] - 8s 15ms/step - loss: 0.0758 - accuracy: 0.9773\n",
            "Epoch 52/100\n",
            "550/550 [==============================] - 8s 15ms/step - loss: 0.0792 - accuracy: 0.9766\n",
            "Epoch 53/100\n",
            "550/550 [==============================] - 8s 15ms/step - loss: 0.0736 - accuracy: 0.9772\n",
            "Epoch 54/100\n",
            "550/550 [==============================] - 8s 15ms/step - loss: 0.0740 - accuracy: 0.9779\n",
            "Epoch 55/100\n",
            "550/550 [==============================] - 8s 14ms/step - loss: 0.0808 - accuracy: 0.9761\n",
            "Epoch 56/100\n",
            "550/550 [==============================] - 8s 14ms/step - loss: 0.0747 - accuracy: 0.9776\n",
            "Epoch 57/100\n",
            "550/550 [==============================] - 8s 14ms/step - loss: 0.0738 - accuracy: 0.9775\n",
            "Epoch 58/100\n",
            "550/550 [==============================] - 8s 14ms/step - loss: 0.0753 - accuracy: 0.9779\n",
            "Epoch 59/100\n",
            "550/550 [==============================] - 8s 14ms/step - loss: 0.0781 - accuracy: 0.9767\n",
            "Epoch 60/100\n",
            "550/550 [==============================] - 8s 14ms/step - loss: 0.0732 - accuracy: 0.9787\n",
            "Epoch 61/100\n",
            "550/550 [==============================] - 8s 14ms/step - loss: 0.0761 - accuracy: 0.9781\n",
            "Epoch 62/100\n",
            "550/550 [==============================] - 8s 14ms/step - loss: 0.0759 - accuracy: 0.9783\n",
            "Epoch 63/100\n",
            "550/550 [==============================] - 8s 14ms/step - loss: 0.0732 - accuracy: 0.9785\n",
            "Epoch 64/100\n",
            "550/550 [==============================] - 8s 14ms/step - loss: 0.0736 - accuracy: 0.9785\n",
            "Epoch 65/100\n",
            "550/550 [==============================] - 8s 14ms/step - loss: 0.0697 - accuracy: 0.9789\n",
            "Epoch 66/100\n",
            "550/550 [==============================] - 8s 14ms/step - loss: 0.0689 - accuracy: 0.9792\n",
            "Epoch 67/100\n",
            "550/550 [==============================] - 8s 15ms/step - loss: 0.0694 - accuracy: 0.9795\n",
            "Epoch 68/100\n",
            "550/550 [==============================] - 8s 14ms/step - loss: 0.0683 - accuracy: 0.9793\n",
            "Epoch 69/100\n",
            "550/550 [==============================] - 8s 15ms/step - loss: 0.0700 - accuracy: 0.9794\n",
            "Epoch 70/100\n",
            "550/550 [==============================] - 8s 14ms/step - loss: 0.0687 - accuracy: 0.9795\n",
            "Epoch 71/100\n",
            "550/550 [==============================] - 8s 15ms/step - loss: 0.0722 - accuracy: 0.9794\n",
            "Epoch 72/100\n",
            "550/550 [==============================] - 8s 15ms/step - loss: 0.0698 - accuracy: 0.9796\n",
            "Epoch 73/100\n",
            "550/550 [==============================] - 9s 17ms/step - loss: 0.0667 - accuracy: 0.9800\n",
            "Epoch 74/100\n",
            "550/550 [==============================] - 8s 15ms/step - loss: 0.0750 - accuracy: 0.9779\n",
            "Epoch 75/100\n",
            "550/550 [==============================] - 8s 14ms/step - loss: 0.0719 - accuracy: 0.9785\n",
            "Epoch 76/100\n",
            "550/550 [==============================] - 8s 15ms/step - loss: 0.0686 - accuracy: 0.9804\n",
            "Epoch 77/100\n",
            "550/550 [==============================] - 8s 15ms/step - loss: 0.0692 - accuracy: 0.9801\n",
            "Epoch 78/100\n",
            "550/550 [==============================] - 8s 15ms/step - loss: 0.0697 - accuracy: 0.9792\n",
            "Epoch 79/100\n",
            "550/550 [==============================] - 8s 15ms/step - loss: 0.0679 - accuracy: 0.9809\n",
            "Epoch 80/100\n",
            "550/550 [==============================] - 8s 14ms/step - loss: 0.0677 - accuracy: 0.9803\n",
            "Epoch 81/100\n",
            "550/550 [==============================] - 8s 15ms/step - loss: 0.0703 - accuracy: 0.9790\n",
            "Epoch 82/100\n",
            "550/550 [==============================] - 8s 15ms/step - loss: 0.0652 - accuracy: 0.9811\n",
            "Epoch 83/100\n",
            "550/550 [==============================] - 8s 15ms/step - loss: 0.0680 - accuracy: 0.9798\n",
            "Epoch 84/100\n",
            "550/550 [==============================] - 9s 16ms/step - loss: 0.0654 - accuracy: 0.9806\n",
            "Epoch 85/100\n",
            "550/550 [==============================] - 8s 15ms/step - loss: 0.0655 - accuracy: 0.9813\n",
            "Epoch 86/100\n",
            "550/550 [==============================] - 8s 15ms/step - loss: 0.0650 - accuracy: 0.9816\n",
            "Epoch 87/100\n",
            "550/550 [==============================] - 8s 15ms/step - loss: 0.0694 - accuracy: 0.9802\n",
            "Epoch 88/100\n",
            "550/550 [==============================] - 8s 15ms/step - loss: 0.0680 - accuracy: 0.9809\n",
            "Epoch 89/100\n",
            "550/550 [==============================] - 8s 15ms/step - loss: 0.0660 - accuracy: 0.9810\n",
            "Epoch 90/100\n",
            "550/550 [==============================] - 8s 14ms/step - loss: 0.0648 - accuracy: 0.9813\n",
            "Epoch 91/100\n",
            "550/550 [==============================] - 8s 15ms/step - loss: 0.0661 - accuracy: 0.9811\n",
            "Epoch 92/100\n",
            "550/550 [==============================] - 8s 15ms/step - loss: 0.0655 - accuracy: 0.9814\n",
            "Epoch 93/100\n",
            "550/550 [==============================] - 8s 15ms/step - loss: 0.0590 - accuracy: 0.9827\n",
            "Epoch 94/100\n",
            "550/550 [==============================] - 8s 15ms/step - loss: 0.0633 - accuracy: 0.9818\n",
            "Epoch 95/100\n",
            "550/550 [==============================] - 8s 15ms/step - loss: 0.0646 - accuracy: 0.9812\n",
            "Epoch 96/100\n",
            "550/550 [==============================] - 8s 15ms/step - loss: 0.0696 - accuracy: 0.9805\n",
            "Epoch 97/100\n",
            "550/550 [==============================] - 8s 14ms/step - loss: 0.0652 - accuracy: 0.9817\n",
            "Epoch 98/100\n",
            "550/550 [==============================] - 8s 15ms/step - loss: 0.0599 - accuracy: 0.9817\n",
            "Epoch 99/100\n",
            "550/550 [==============================] - 8s 15ms/step - loss: 0.0570 - accuracy: 0.9826\n",
            "Epoch 100/100\n",
            "550/550 [==============================] - 8s 15ms/step - loss: 0.0613 - accuracy: 0.9830\n"
          ]
        },
        {
          "output_type": "execute_result",
          "data": {
            "text/plain": [
              "<keras.callbacks.History at 0x7f7c5a4a1f50>"
            ]
          },
          "metadata": {},
          "execution_count": 45
        }
      ]
    },
    {
      "cell_type": "code",
      "source": [
        "loss, acc = model3.evaluate(X_test, y_test, batch_size=100)\n",
        "print(\"\\nTest accuracy: %.1f%%\" % (100.0 * acc))"
      ],
      "metadata": {
        "colab": {
          "base_uri": "https://localhost:8080/"
        },
        "id": "7mwXz8oNh1Lg",
        "outputId": "fb1ea7aa-8c3c-45f2-85cd-c256b0e1c381"
      },
      "execution_count": 46,
      "outputs": [
        {
          "output_type": "stream",
          "name": "stdout",
          "text": [
            "100/100 [==============================] - 1s 6ms/step - loss: 0.0860 - accuracy: 0.9795\n",
            "\n",
            "Test accuracy: 97.9%\n"
          ]
        }
      ]
    }
  ],
  "metadata": {
    "anaconda-cloud": {},
    "kernelspec": {
      "display_name": "Python 3 (ipykernel)",
      "language": "python",
      "name": "python3"
    },
    "language_info": {
      "codemirror_mode": {
        "name": "ipython",
        "version": 3
      },
      "file_extension": ".py",
      "mimetype": "text/x-python",
      "name": "python",
      "nbconvert_exporter": "python",
      "pygments_lexer": "ipython3",
      "version": "3.9.7"
    },
    "colab": {
      "name": "PartA_Vlad_Naor.ipynb",
      "provenance": []
    }
  },
  "nbformat": 4,
  "nbformat_minor": 0
}