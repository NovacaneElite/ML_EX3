{
  "nbformat": 4,
  "nbformat_minor": 0,
  "metadata": {
    "colab": {
      "name": "Untitled2.ipynb",
      "provenance": [],
      "collapsed_sections": [],
      "machine_shape": "hm"
    },
    "kernelspec": {
      "name": "python3",
      "display_name": "Python 3"
    },
    "language_info": {
      "name": "python"
    },
    "accelerator": "GPU",
    "gpuClass": "standard"
  },
  "cells": [
    {
      "cell_type": "markdown",
      "source": [
        "# imports"
      ],
      "metadata": {
        "id": "eSFVG7d7OzAM"
      }
    },
    {
      "cell_type": "code",
      "source": [
        "pip install keras.applications"
      ],
      "metadata": {
        "colab": {
          "base_uri": "https://localhost:8080/"
        },
        "id": "iZ-Ka_3SBQjf",
        "outputId": "f2531ccd-47f7-4448-e689-2727856d8789"
      },
      "execution_count": 1,
      "outputs": [
        {
          "output_type": "stream",
          "name": "stdout",
          "text": [
            "Looking in indexes: https://pypi.org/simple, https://us-python.pkg.dev/colab-wheels/public/simple/\n",
            "Requirement already satisfied: keras.applications in /usr/local/lib/python3.7/dist-packages (1.0.8)\n",
            "Requirement already satisfied: numpy>=1.9.1 in /usr/local/lib/python3.7/dist-packages (from keras.applications) (1.21.6)\n",
            "Requirement already satisfied: h5py in /usr/local/lib/python3.7/dist-packages (from keras.applications) (3.1.0)\n",
            "Requirement already satisfied: cached-property in /usr/local/lib/python3.7/dist-packages (from h5py->keras.applications) (1.5.2)\n"
          ]
        }
      ]
    },
    {
      "cell_type": "code",
      "source": [
        "import keras\n",
        "from keras import Sequential\n",
        "from keras.layers import Dense, BatchNormalization, GlobalAveragePooling2D\n",
        "from keras.applications.vgg19 import VGG19\n",
        "from keras.applications.inception_resnet_v2 import InceptionResNetV2\n",
        "import tensorflow_datasets as tfds\n",
        "import tensorflow as tf\n",
        "from tensorflow.python.keras.callbacks import Callback\n",
        "import matplotlib.pyplot as plt\n"
      ],
      "metadata": {
        "id": "TQZ9wjwAIrsp"
      },
      "execution_count": 2,
      "outputs": []
    },
    {
      "cell_type": "markdown",
      "source": [
        "# Get Data"
      ],
      "metadata": {
        "id": "8RxviZKUO1nE"
      }
    },
    {
      "cell_type": "code",
      "source": [
        "data, data_info = tfds.load('oxford_flowers102', split='train+test+validation', as_supervised=True,\n",
        "                                       with_info=True)\n",
        "\n",
        "image_size = 244\n",
        "batch_size = 200\n",
        "accuracyArray = []\n",
        "lossArray = []"
      ],
      "metadata": {
        "id": "N-utznKWI7bW"
      },
      "execution_count": 3,
      "outputs": []
    },
    {
      "cell_type": "markdown",
      "source": [
        "# Helper funcitons"
      ],
      "metadata": {
        "id": "8DWnmZe9O5wQ"
      }
    },
    {
      "cell_type": "code",
      "source": [
        "class TestCallback(Callback):\n",
        "    def __init__(self, test_data):\n",
        "        self.test_data = test_data\n",
        "\n",
        "    def on_epoch_end(self, epoch, logs={}):\n",
        "        loss, acc = self.model.evaluate(self.test_data, verbose=0)\n",
        "        accuracyArray.append(acc)\n",
        "        lossArray.append(loss)"
      ],
      "metadata": {
        "id": "P9xsltYzJSH-"
      },
      "execution_count": 4,
      "outputs": []
    },
    {
      "cell_type": "code",
      "source": [
        "def get_data(dataset, train_size, validation_size, shuffle=False):\n",
        "    train_size = int(train_size * len(dataset))\n",
        "    validation_size = int(validation_size * len(dataset))\n",
        "\n",
        "    if shuffle:\n",
        "        dataset = dataset.shuffle(len(dataset), seed=shuffle)\n",
        "\n",
        "    ds_train = dataset.take(train_size)\n",
        "    ds_valid = dataset.skip(train_size)\n",
        "    ds_valid = dataset.take(validation_size)\n",
        "    ds_test = dataset.skip(train_size + validation_size)\n",
        "\n",
        "    print(f\"Total images: {len(dataset)}.\")\n",
        "    print(f\"Train: {len(ds_train)}, test: {len(ds_test)}, validation: {len(ds_valid)}.\")\n",
        "\n",
        "    return ds_train, ds_test, ds_valid"
      ],
      "metadata": {
        "id": "aic4VypiJTpT"
      },
      "execution_count": 5,
      "outputs": []
    },
    {
      "cell_type": "code",
      "source": [
        "def reformat_img(img, label):\n",
        "    img = tf.image.resize(img, (image_size, image_size)) / image_size\n",
        "    return img, label"
      ],
      "metadata": {
        "id": "xf98rCpQJcA1"
      },
      "execution_count": 6,
      "outputs": []
    },
    {
      "cell_type": "code",
      "source": [
        "def preprocess(dataset, train_size):\n",
        "    dataset = dataset.shuffle(train_size).map(reformat_img)\n",
        "    dataset = dataset.batch(batch_size=batch_size)\n",
        "    dataset = dataset.prefetch(1)\n",
        "    return dataset"
      ],
      "metadata": {
        "id": "xAqN6oDEJcLC"
      },
      "execution_count": 7,
      "outputs": []
    },
    {
      "cell_type": "code",
      "source": [
        "def create_vgg_model():\n",
        "    model = VGG19(input_shape=(image_size, image_size, 3), include_top=False, weights=\"imagenet\")\n",
        "    for layer in model.layers[:19]:\n",
        "        layer.trainable = False\n",
        "    return model"
      ],
      "metadata": {
        "id": "g1NN2StYJfXg"
      },
      "execution_count": 8,
      "outputs": []
    },
    {
      "cell_type": "code",
      "source": [
        "def create_inception_resnet_v2_model():\n",
        "    model = InceptionResNetV2(include_top=False, weights='imagenet', input_shape=(image_size, image_size, 3))\n",
        "    for layer in model.layers[:-1]:\n",
        "        layer.trainable = False\n",
        "    return model"
      ],
      "metadata": {
        "id": "gL2iNqaoJgb4"
      },
      "execution_count": 9,
      "outputs": []
    },
    {
      "cell_type": "code",
      "execution_count": 10,
      "metadata": {
        "id": "AiGyWfqPBGvB"
      },
      "outputs": [],
      "source": [
        "def create_model(num_classes, model_not_trained):\n",
        "    model = Sequential()\n",
        "    model.add(model_not_trained)\n",
        "    model.add(BatchNormalization())\n",
        "    model.add(GlobalAveragePooling2D())\n",
        "    model.add(Dense(num_classes, activation='softmax'))\n",
        "    model.compile(loss='sparse_categorical_crossentropy', optimizer='adam', metrics=['accuracy'])\n",
        "    return model"
      ]
    },
    {
      "cell_type": "markdown",
      "source": [
        "# Train-Test Split"
      ],
      "metadata": {
        "id": "_WioigaqO_xi"
      }
    },
    {
      "cell_type": "code",
      "source": [
        "ds_train, ds_test, ds_valid = get_data(data, train_size=0.5, validation_size=0.25)\n",
        "train_size = len(ds_train)\n",
        "ds_train_processed = preprocess(ds_train, train_size)\n",
        "ds_test_processed = preprocess(ds_test, train_size)\n",
        "ds_valid_processed = preprocess(ds_valid, train_size)\n",
        "num_classes = data_info.features['label'].num_classes"
      ],
      "metadata": {
        "colab": {
          "base_uri": "https://localhost:8080/"
        },
        "id": "-1RzegCjJ-iN",
        "outputId": "9179bc96-16b0-48a3-8218-4e11b5e19da2"
      },
      "execution_count": 11,
      "outputs": [
        {
          "output_type": "stream",
          "name": "stdout",
          "text": [
            "Total images: 8189.\n",
            "Train: 4094, test: 2048, validation: 2047.\n"
          ]
        }
      ]
    },
    {
      "cell_type": "markdown",
      "source": [
        "# inception_resnet_v2 Model"
      ],
      "metadata": {
        "id": "d3JEld1YPDlo"
      }
    },
    {
      "cell_type": "code",
      "source": [
        "model = create_model(num_classes, create_inception_resnet_v2_model())\n",
        "model.summary()"
      ],
      "metadata": {
        "colab": {
          "base_uri": "https://localhost:8080/"
        },
        "id": "7k4PGFJXKADV",
        "outputId": "b55a092a-4871-4b8a-c9ad-1b0ae823fae9"
      },
      "execution_count": 12,
      "outputs": [
        {
          "output_type": "stream",
          "name": "stdout",
          "text": [
            "Model: \"sequential\"\n",
            "_________________________________________________________________\n",
            " Layer (type)                Output Shape              Param #   \n",
            "=================================================================\n",
            " inception_resnet_v2 (Functi  (None, 6, 6, 1536)       54336736  \n",
            " onal)                                                           \n",
            "                                                                 \n",
            " batch_normalization_203 (Ba  (None, 6, 6, 1536)       6144      \n",
            " tchNormalization)                                               \n",
            "                                                                 \n",
            " global_average_pooling2d (G  (None, 1536)             0         \n",
            " lobalAveragePooling2D)                                          \n",
            "                                                                 \n",
            " dense (Dense)               (None, 102)               156774    \n",
            "                                                                 \n",
            "=================================================================\n",
            "Total params: 54,499,654\n",
            "Trainable params: 159,846\n",
            "Non-trainable params: 54,339,808\n",
            "_________________________________________________________________\n"
          ]
        }
      ]
    },
    {
      "cell_type": "code",
      "source": [
        "early_stopping = keras.callbacks.EarlyStopping(monitor='val_loss', patience=5)\n",
        "learning_rate_reduction = keras.callbacks.ReduceLROnPlateau(monitor='val_accuracy', patience=3, verbose=1,factor=0.6, min_lr=0.000001)\n",
        "epochs = 25\n",
        "history = model.fit(ds_train_processed, epochs=epochs, validation_data=ds_valid_processed, verbose=1,\n",
        "                        callbacks=[TestCallback(ds_test_processed), learning_rate_reduction, early_stopping])\n",
        "                        "
      ],
      "metadata": {
        "colab": {
          "base_uri": "https://localhost:8080/"
        },
        "id": "-xnm2UZyJkyF",
        "outputId": "9d58567b-6321-4df3-b7a7-b7416b40e080"
      },
      "execution_count": 13,
      "outputs": [
        {
          "output_type": "stream",
          "name": "stdout",
          "text": [
            "Epoch 1/25\n",
            "21/21 [==============================] - 52s 2s/step - loss: 3.2231 - accuracy: 0.2848 - val_loss: 2.6226 - val_accuracy: 0.4045 - lr: 0.0010\n",
            "Epoch 2/25\n",
            "21/21 [==============================] - 32s 1s/step - loss: 1.5842 - accuracy: 0.6583 - val_loss: 1.8271 - val_accuracy: 0.5828 - lr: 0.0010\n",
            "Epoch 3/25\n",
            "21/21 [==============================] - 33s 1s/step - loss: 1.0725 - accuracy: 0.7836 - val_loss: 1.3722 - val_accuracy: 0.7167 - lr: 0.0010\n",
            "Epoch 4/25\n",
            "21/21 [==============================] - 33s 1s/step - loss: 0.8158 - accuracy: 0.8451 - val_loss: 1.0513 - val_accuracy: 0.8061 - lr: 0.0010\n",
            "Epoch 5/25\n",
            "21/21 [==============================] - 33s 1s/step - loss: 0.6565 - accuracy: 0.8806 - val_loss: 0.8363 - val_accuracy: 0.8715 - lr: 0.0010\n",
            "Epoch 6/25\n",
            "21/21 [==============================] - 33s 2s/step - loss: 0.5409 - accuracy: 0.9089 - val_loss: 0.6767 - val_accuracy: 0.8989 - lr: 0.0010\n",
            "Epoch 7/25\n",
            "21/21 [==============================] - 33s 1s/step - loss: 0.4539 - accuracy: 0.9289 - val_loss: 0.5583 - val_accuracy: 0.9277 - lr: 0.0010\n",
            "Epoch 8/25\n",
            "21/21 [==============================] - 33s 1s/step - loss: 0.3932 - accuracy: 0.9446 - val_loss: 0.4584 - val_accuracy: 0.9463 - lr: 0.0010\n",
            "Epoch 9/25\n",
            "21/21 [==============================] - 33s 1s/step - loss: 0.3381 - accuracy: 0.9507 - val_loss: 0.3866 - val_accuracy: 0.9551 - lr: 0.0010\n",
            "Epoch 10/25\n",
            "21/21 [==============================] - 33s 1s/step - loss: 0.2971 - accuracy: 0.9631 - val_loss: 0.3308 - val_accuracy: 0.9663 - lr: 0.0010\n",
            "Epoch 11/25\n",
            "21/21 [==============================] - 33s 1s/step - loss: 0.2629 - accuracy: 0.9678 - val_loss: 0.2831 - val_accuracy: 0.9726 - lr: 0.0010\n",
            "Epoch 12/25\n",
            "21/21 [==============================] - 33s 1s/step - loss: 0.2349 - accuracy: 0.9729 - val_loss: 0.2463 - val_accuracy: 0.9766 - lr: 0.0010\n",
            "Epoch 13/25\n",
            "21/21 [==============================] - 33s 1s/step - loss: 0.2077 - accuracy: 0.9792 - val_loss: 0.2159 - val_accuracy: 0.9849 - lr: 0.0010\n",
            "Epoch 14/25\n",
            "21/21 [==============================] - 33s 1s/step - loss: 0.1846 - accuracy: 0.9834 - val_loss: 0.1880 - val_accuracy: 0.9868 - lr: 0.0010\n",
            "Epoch 15/25\n",
            "21/21 [==============================] - 32s 1s/step - loss: 0.1699 - accuracy: 0.9856 - val_loss: 0.1706 - val_accuracy: 0.9873 - lr: 0.0010\n",
            "Epoch 16/25\n",
            "21/21 [==============================] - 33s 1s/step - loss: 0.1511 - accuracy: 0.9861 - val_loss: 0.1485 - val_accuracy: 0.9902 - lr: 0.0010\n",
            "Epoch 17/25\n",
            "21/21 [==============================] - 33s 1s/step - loss: 0.1368 - accuracy: 0.9905 - val_loss: 0.1345 - val_accuracy: 0.9912 - lr: 0.0010\n",
            "Epoch 18/25\n",
            "21/21 [==============================] - 33s 1s/step - loss: 0.1264 - accuracy: 0.9902 - val_loss: 0.1227 - val_accuracy: 0.9927 - lr: 0.0010\n",
            "Epoch 19/25\n",
            "21/21 [==============================] - 33s 1s/step - loss: 0.1164 - accuracy: 0.9907 - val_loss: 0.1089 - val_accuracy: 0.9956 - lr: 0.0010\n",
            "Epoch 20/25\n",
            "21/21 [==============================] - 33s 1s/step - loss: 0.1056 - accuracy: 0.9932 - val_loss: 0.0995 - val_accuracy: 0.9966 - lr: 0.0010\n",
            "Epoch 21/25\n",
            "21/21 [==============================] - 33s 1s/step - loss: 0.0962 - accuracy: 0.9958 - val_loss: 0.0916 - val_accuracy: 0.9961 - lr: 0.0010\n",
            "Epoch 22/25\n",
            "21/21 [==============================] - 32s 1s/step - loss: 0.0880 - accuracy: 0.9971 - val_loss: 0.0838 - val_accuracy: 0.9956 - lr: 0.0010\n",
            "Epoch 23/25\n",
            "21/21 [==============================] - 33s 1s/step - loss: 0.0825 - accuracy: 0.9963 - val_loss: 0.0776 - val_accuracy: 0.9985 - lr: 0.0010\n",
            "Epoch 24/25\n",
            "21/21 [==============================] - 33s 1s/step - loss: 0.0765 - accuracy: 0.9968 - val_loss: 0.0710 - val_accuracy: 0.9976 - lr: 0.0010\n",
            "Epoch 25/25\n",
            "21/21 [==============================] - 33s 1s/step - loss: 0.0705 - accuracy: 0.9985 - val_loss: 0.0667 - val_accuracy: 0.9990 - lr: 0.0010\n"
          ]
        }
      ]
    },
    {
      "cell_type": "code",
      "source": [
        "res = model.evaluate(ds_test_processed)\n",
        "print(\"[Loss, Accuracy] = \", res)"
      ],
      "metadata": {
        "colab": {
          "base_uri": "https://localhost:8080/"
        },
        "id": "X19RDquLa3Hk",
        "outputId": "d853d146-38f5-41d8-8721-5f239b2244fa"
      },
      "execution_count": 14,
      "outputs": [
        {
          "output_type": "stream",
          "name": "stdout",
          "text": [
            "11/11 [==============================] - 11s 545ms/step - loss: 0.5650 - accuracy: 0.8584\n",
            "[Loss, Accuracy] =  [0.5649579763412476, 0.8583984375]\n"
          ]
        }
      ]
    },
    {
      "cell_type": "code",
      "source": [
        "epochs = list(range(1, epochs + 1))"
      ],
      "metadata": {
        "id": "82Ye2WZaa1Md"
      },
      "execution_count": 15,
      "outputs": []
    },
    {
      "cell_type": "code",
      "source": [
        "plt.plot(epochs, history.history['accuracy'], label=\"Training\")\n",
        "plt.plot(epochs, history.history['val_accuracy'], label=\"Validation\")\n",
        "plt.plot(epochs, accuracyArray, label=\"Testing\")\n",
        "plt.xlabel('Epochs')\n",
        "plt.ylabel('Accuracy')\n",
        "plt.title('Accuracy')\n",
        "plt.legend()\n",
        "plt.savefig(\"Accuracy1.png\")"
      ],
      "metadata": {
        "colab": {
          "base_uri": "https://localhost:8080/",
          "height": 295
        },
        "id": "CpB9ZscfNLGY",
        "outputId": "e7a39c94-6e85-4b40-863d-1a9fed4d894c"
      },
      "execution_count": 16,
      "outputs": [
        {
          "output_type": "display_data",
          "data": {
            "text/plain": [
              "<Figure size 432x288 with 1 Axes>"
            ],
            "image/png": "[encoded data removed]"
          },
          "metadata": {
            "needs_background": "light"
          }
        }
      ]
    },
    {
      "cell_type": "code",
      "source": [
        "plt.plot(epochs, history.history['loss'], label=\"Training\")\n",
        "plt.plot(epochs, history.history['val_loss'], label=\"Validation\")\n",
        "plt.plot(epochs, lossArray, label=\"Testing\")\n",
        "plt.xlabel('Epochs')\n",
        "plt.ylabel('Loss')\n",
        "plt.title('Loss')\n",
        "plt.legend()\n",
        "plt.savefig(\"Loss1.png\")"
      ],
      "metadata": {
        "colab": {
          "base_uri": "https://localhost:8080/",
          "height": 295
        },
        "id": "Pel73mJuascx",
        "outputId": "d4221cd8-f4ad-451c-bc81-5c84d69cd2b7"
      },
      "execution_count": 17,
      "outputs": [
        {
          "output_type": "display_data",
          "data": {
            "text/plain": [
              "<Figure size 432x288 with 1 Axes>"
            ],
            "image/png": "[encoded data removed]"
          },
          "metadata": {
            "needs_background": "light"
          }
        }
      ]
    },
    {
      "cell_type": "code",
      "source": [
        "accuracyArray = []\n",
        "lossArray = []"
      ],
      "metadata": {
        "id": "dtovLCw3an4J"
      },
      "execution_count": 19,
      "outputs": []
    },
    {
      "cell_type": "markdown",
      "source": [
        "# vgg19 model"
      ],
      "metadata": {
        "id": "omjxUhbvW7L-"
      }
    },
    {
      "cell_type": "code",
      "source": [
        "model2 = create_model(num_classes, create_vgg_model())\n",
        "model2.summary()"
      ],
      "metadata": {
        "colab": {
          "base_uri": "https://localhost:8080/"
        },
        "id": "1u6GpN0cKELd",
        "outputId": "60395b62-9f87-4435-cc99-38b7b8bb5d96"
      },
      "execution_count": 20,
      "outputs": [
        {
          "output_type": "stream",
          "name": "stdout",
          "text": [
            "Model: \"sequential_1\"\n",
            "_________________________________________________________________\n",
            " Layer (type)                Output Shape              Param #   \n",
            "=================================================================\n",
            " vgg19 (Functional)          (None, 7, 7, 512)         20024384  \n",
            "                                                                 \n",
            " batch_normalization_204 (Ba  (None, 7, 7, 512)        2048      \n",
            " tchNormalization)                                               \n",
            "                                                                 \n",
            " global_average_pooling2d_1   (None, 512)              0         \n",
            " (GlobalAveragePooling2D)                                        \n",
            "                                                                 \n",
            " dense_1 (Dense)             (None, 102)               52326     \n",
            "                                                                 \n",
            "=================================================================\n",
            "Total params: 20,078,758\n",
            "Trainable params: 4,772,966\n",
            "Non-trainable params: 15,305,792\n",
            "_________________________________________________________________\n"
          ]
        }
      ]
    },
    {
      "cell_type": "code",
      "source": [
        "early_stopping = keras.callbacks.EarlyStopping(monitor='val_loss', patience=5)\n",
        "learning_rate_reduction = keras.callbacks.ReduceLROnPlateau(monitor='val_accuracy', patience=3, verbose=1,factor=0.6, min_lr=0.000001)\n",
        "epochs = 25\n",
        "history2 = model2.fit(ds_train_processed, epochs=epochs, validation_data=ds_valid_processed, verbose=1,\n",
        "                        callbacks=[TestCallback(ds_test_processed), learning_rate_reduction, early_stopping])"
      ],
      "metadata": {
        "colab": {
          "base_uri": "https://localhost:8080/"
        },
        "id": "GSsSYmQmKEfC",
        "outputId": "171c1c6f-27f0-4371-f4a1-cfa6bb027371"
      },
      "execution_count": 21,
      "outputs": [
        {
          "output_type": "stream",
          "name": "stdout",
          "text": [
            "Epoch 1/25\n",
            "21/21 [==============================] - 65s 3s/step - loss: 2.5942 - accuracy: 0.4475 - val_loss: 3.1463 - val_accuracy: 0.3371 - lr: 0.0010\n",
            "Epoch 2/25\n",
            "21/21 [==============================] - 33s 2s/step - loss: 0.9727 - accuracy: 0.8173 - val_loss: 1.1655 - val_accuracy: 0.6922 - lr: 0.0010\n",
            "Epoch 3/25\n",
            "21/21 [==============================] - 33s 1s/step - loss: 0.4546 - accuracy: 0.9267 - val_loss: 0.5534 - val_accuracy: 0.8828 - lr: 0.0010\n",
            "Epoch 4/25\n",
            "21/21 [==============================] - 33s 1s/step - loss: 0.2023 - accuracy: 0.9831 - val_loss: 0.2678 - val_accuracy: 0.9873 - lr: 0.0010\n",
            "Epoch 5/25\n",
            "21/21 [==============================] - 33s 1s/step - loss: 0.0791 - accuracy: 0.9993 - val_loss: 0.1746 - val_accuracy: 0.9985 - lr: 0.0010\n",
            "Epoch 6/25\n",
            "21/21 [==============================] - 33s 1s/step - loss: 0.0325 - accuracy: 1.0000 - val_loss: 0.1051 - val_accuracy: 1.0000 - lr: 0.0010\n",
            "Epoch 7/25\n",
            "21/21 [==============================] - 33s 1s/step - loss: 0.0155 - accuracy: 1.0000 - val_loss: 0.0759 - val_accuracy: 1.0000 - lr: 0.0010\n",
            "Epoch 8/25\n",
            "21/21 [==============================] - 33s 1s/step - loss: 0.0095 - accuracy: 1.0000 - val_loss: 0.0509 - val_accuracy: 1.0000 - lr: 0.0010\n",
            "Epoch 9/25\n",
            "21/21 [==============================] - ETA: 0s - loss: 0.0070 - accuracy: 1.0000\n",
            "Epoch 9: ReduceLROnPlateau reducing learning rate to 0.0006000000284984708.\n",
            "21/21 [==============================] - 33s 1s/step - loss: 0.0070 - accuracy: 1.0000 - val_loss: 0.0381 - val_accuracy: 1.0000 - lr: 0.0010\n",
            "Epoch 10/25\n",
            "21/21 [==============================] - 34s 2s/step - loss: 0.0056 - accuracy: 1.0000 - val_loss: 0.0296 - val_accuracy: 1.0000 - lr: 6.0000e-04\n",
            "Epoch 11/25\n",
            "21/21 [==============================] - 33s 1s/step - loss: 0.0050 - accuracy: 1.0000 - val_loss: 0.0231 - val_accuracy: 1.0000 - lr: 6.0000e-04\n",
            "Epoch 12/25\n",
            "21/21 [==============================] - ETA: 0s - loss: 0.0045 - accuracy: 1.0000\n",
            "Epoch 12: ReduceLROnPlateau reducing learning rate to 0.0003600000170990825.\n",
            "21/21 [==============================] - 33s 1s/step - loss: 0.0045 - accuracy: 1.0000 - val_loss: 0.0178 - val_accuracy: 1.0000 - lr: 6.0000e-04\n",
            "Epoch 13/25\n",
            "21/21 [==============================] - 33s 1s/step - loss: 0.0041 - accuracy: 1.0000 - val_loss: 0.0141 - val_accuracy: 1.0000 - lr: 3.6000e-04\n",
            "Epoch 14/25\n",
            "21/21 [==============================] - 33s 1s/step - loss: 0.0038 - accuracy: 1.0000 - val_loss: 0.0113 - val_accuracy: 1.0000 - lr: 3.6000e-04\n",
            "Epoch 15/25\n",
            "21/21 [==============================] - ETA: 0s - loss: 0.0036 - accuracy: 1.0000\n",
            "Epoch 15: ReduceLROnPlateau reducing learning rate to 0.00021600000327453016.\n",
            "21/21 [==============================] - 33s 1s/step - loss: 0.0036 - accuracy: 1.0000 - val_loss: 0.0092 - val_accuracy: 1.0000 - lr: 3.6000e-04\n",
            "Epoch 16/25\n",
            "21/21 [==============================] - 33s 1s/step - loss: 0.0034 - accuracy: 1.0000 - val_loss: 0.0077 - val_accuracy: 1.0000 - lr: 2.1600e-04\n",
            "Epoch 17/25\n",
            "21/21 [==============================] - 33s 1s/step - loss: 0.0033 - accuracy: 1.0000 - val_loss: 0.0066 - val_accuracy: 1.0000 - lr: 2.1600e-04\n",
            "Epoch 18/25\n",
            "21/21 [==============================] - ETA: 0s - loss: 0.0032 - accuracy: 1.0000\n",
            "Epoch 18: ReduceLROnPlateau reducing learning rate to 0.00012960000021848827.\n",
            "21/21 [==============================] - 33s 1s/step - loss: 0.0032 - accuracy: 1.0000 - val_loss: 0.0057 - val_accuracy: 1.0000 - lr: 2.1600e-04\n",
            "Epoch 19/25\n",
            "21/21 [==============================] - 33s 1s/step - loss: 0.0030 - accuracy: 1.0000 - val_loss: 0.0050 - val_accuracy: 1.0000 - lr: 1.2960e-04\n",
            "Epoch 20/25\n",
            "21/21 [==============================] - 33s 1s/step - loss: 0.0030 - accuracy: 1.0000 - val_loss: 0.0045 - val_accuracy: 1.0000 - lr: 1.2960e-04\n",
            "Epoch 21/25\n",
            "21/21 [==============================] - ETA: 0s - loss: 0.0029 - accuracy: 1.0000\n",
            "Epoch 21: ReduceLROnPlateau reducing learning rate to 7.775999838486313e-05.\n",
            "21/21 [==============================] - 33s 1s/step - loss: 0.0029 - accuracy: 1.0000 - val_loss: 0.0041 - val_accuracy: 1.0000 - lr: 1.2960e-04\n",
            "Epoch 22/25\n",
            "21/21 [==============================] - 33s 1s/step - loss: 0.0028 - accuracy: 1.0000 - val_loss: 0.0038 - val_accuracy: 1.0000 - lr: 7.7760e-05\n",
            "Epoch 23/25\n",
            "21/21 [==============================] - 33s 1s/step - loss: 0.0028 - accuracy: 1.0000 - val_loss: 0.0035 - val_accuracy: 1.0000 - lr: 7.7760e-05\n",
            "Epoch 24/25\n",
            "21/21 [==============================] - ETA: 0s - loss: 0.0028 - accuracy: 1.0000\n",
            "Epoch 24: ReduceLROnPlateau reducing learning rate to 4.6655999904032795e-05.\n",
            "21/21 [==============================] - 33s 1s/step - loss: 0.0028 - accuracy: 1.0000 - val_loss: 0.0033 - val_accuracy: 1.0000 - lr: 7.7760e-05\n",
            "Epoch 25/25\n",
            "21/21 [==============================] - 33s 1s/step - loss: 0.0028 - accuracy: 1.0000 - val_loss: 0.0032 - val_accuracy: 1.0000 - lr: 4.6656e-05\n"
          ]
        }
      ]
    },
    {
      "cell_type": "code",
      "source": [
        "res2 = model2.evaluate(ds_test_processed)\n",
        "print(\"[Loss, Accuracy] = \", res2)"
      ],
      "metadata": {
        "colab": {
          "base_uri": "https://localhost:8080/"
        },
        "id": "0JTiO9jgNMjz",
        "outputId": "eddbeede-df83-4ea6-ee2a-aae0fae78e1b"
      },
      "execution_count": 22,
      "outputs": [
        {
          "output_type": "stream",
          "name": "stdout",
          "text": [
            "11/11 [==============================] - 10s 485ms/step - loss: 0.3966 - accuracy: 0.8999\n",
            "[Loss, Accuracy] =  [0.39655768871307373, 0.89990234375]\n"
          ]
        }
      ]
    },
    {
      "cell_type": "code",
      "source": [
        "epochs = list(range(1, epochs + 1))"
      ],
      "metadata": {
        "id": "F_8RMddtaa1B"
      },
      "execution_count": 23,
      "outputs": []
    },
    {
      "cell_type": "code",
      "source": [
        "plt.plot(epochs, history2.history['accuracy'], label=\"Training\")\n",
        "plt.plot(epochs, history2.history['val_accuracy'], label=\"Validation\")\n",
        "plt.plot(epochs, accuracyArray, label=\"Testing\")\n",
        "plt.xlabel('Epochs')\n",
        "plt.ylabel('Accuracy')\n",
        "plt.title('Accuracy')\n",
        "plt.legend()\n",
        "plt.savefig(\"Accuracy2.png\")"
      ],
      "metadata": {
        "colab": {
          "base_uri": "https://localhost:8080/",
          "height": 295
        },
        "id": "mHpl69leaLzU",
        "outputId": "c13e6dbd-362e-4e4f-f341-350973189a11"
      },
      "execution_count": 24,
      "outputs": [
        {
          "output_type": "display_data",
          "data": {
            "text/plain": [
              "<Figure size 432x288 with 1 Axes>"
            ],
            "image/png": "[encoded data removed]"
          },
          "metadata": {
            "needs_background": "light"
          }
        }
      ]
    },
    {
      "cell_type": "code",
      "source": [
        "plt.plot(epochs, history2.history['loss'], label=\"Training\")\n",
        "plt.plot(epochs, history2.history['val_loss'], label=\"Validation\")\n",
        "plt.plot(epochs, lossArray, label=\"Testing\")\n",
        "plt.xlabel('Epochs')\n",
        "plt.ylabel('Loss')\n",
        "plt.title('Loss')\n",
        "plt.legend()\n",
        "plt.savefig(\"Loss2.png\")"
      ],
      "metadata": {
        "colab": {
          "base_uri": "https://localhost:8080/",
          "height": 295
        },
        "id": "mV3cOvMbaH7b",
        "outputId": "aadb8cac-f737-4426-9c7d-6b4819737216"
      },
      "execution_count": 25,
      "outputs": [
        {
          "output_type": "display_data",
          "data": {
            "text/plain": [
              "<Figure size 432x288 with 1 Axes>"
            ],
            "image/png": "[encoded data removed]"
          },
          "metadata": {
            "needs_background": "light"
          }
        }
      ]
    }
  ]
}